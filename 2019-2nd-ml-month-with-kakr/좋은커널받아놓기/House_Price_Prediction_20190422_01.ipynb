{
  "nbformat": 4,
  "nbformat_minor": 0,
  "metadata": {
    "colab": {
      "name": "House_Price_Prediction_20190422_01.ipynb",
      "version": "0.3.2",
      "provenance": [],
      "collapsed_sections": [],
      "toc_visible": true
    },
    "kernelspec": {
      "name": "python3",
      "display_name": "Python 3"
    },
    "accelerator": "GPU"
  },
  "cells": [
    {
      "metadata": {
        "id": "mOelGO7uHW_l",
        "colab_type": "text"
      },
      "cell_type": "markdown",
      "source": [
        "참고\n",
        "* https://www.one-tab.com/page/X_GE8G4pRY6Y1DQgexbpiQ\n",
        "* 2019 ML month 2nd - base의 사본의 사본\n",
        "* House_Price_Prediction_20190323_01_done\n",
        "* http://www.brightics.ai/kr/docs/ai/v3.6/tutorials/45_2_energy_usage_analysis\n",
        "\n",
        "그라디언부스팅검색\n",
        "* https://blog.naver.com/960125_hds/221046332248\n",
        "\n",
        "로버스트 검색\n",
        "* https://blog.naver.com/ssdyka/221258155771"
      ]
    },
    {
      "metadata": {
        "id": "LJIddmWheV08",
        "colab_type": "code",
        "outputId": "ba843307-ee25-4772-d128-d8dec546bad3",
        "colab": {
          "base_uri": "https://localhost:8080/",
          "height": 35
        }
      },
      "cell_type": "code",
      "source": [
        "#!kaggle competitions download -c 2019-2nd-ml-month-with-kakr\n",
        "\n",
        "from google.colab import *\n",
        "auth.authenticate_user()\n",
        "drive.mount('/content/gdrive')"
      ],
      "execution_count": 1,
      "outputs": [
        {
          "output_type": "stream",
          "text": [
            "Drive already mounted at /content/gdrive; to attempt to forcibly remount, call drive.mount(\"/content/gdrive\", force_remount=True).\n"
          ],
          "name": "stdout"
        }
      ]
    },
    {
      "metadata": {
        "id": "knhVPKaFeZJG",
        "colab_type": "code",
        "outputId": "b96a96a9-6e95-46ac-c1a0-b958771cdd13",
        "colab": {
          "base_uri": "https://localhost:8080/",
          "height": 377
        }
      },
      "cell_type": "code",
      "source": [
        "!pip install --upgrade pip\n",
        "!pip install --upgrade scipy\n",
        "!pip install plotnine\n",
        "\n",
        "import pandas as pd\n",
        "import numpy as np\n",
        "\n",
        "import warnings\n",
        "warnings.filterwarnings(\"ignore\")\n",
        "\n",
        "import os\n",
        "import matplotlib.pyplot as plt\n",
        "import matplotlib.patches as mpatches\n",
        "import seaborn as sns\n",
        "\n",
        "from sklearn.model_selection import train_test_split\n",
        "from sklearn.ensemble import GradientBoostingRegressor\n",
        "from sklearn.model_selection import KFold \n",
        "from sklearn.model_selection import cross_val_score\n",
        "from sklearn.model_selection import GridSearchCV\n",
        "\n",
        "import xgboost as xgb\n",
        "import lightgbm as lgb\n",
        "from sklearn.decomposition import PCA\n",
        "\n",
        "from time import time, localtime\n",
        "\n",
        "from sklearn.preprocessing import MinMaxScaler\n",
        "from sklearn.preprocessing import MaxAbsScaler\n",
        "from sklearn.preprocessing import StandardScaler\n",
        "from sklearn.preprocessing import RobustScaler\n",
        "\n",
        "from sklearn.ensemble import AdaBoostClassifier\n",
        "from sklearn.ensemble import AdaBoostRegressor\n",
        "from sklearn.ensemble import RandomForestRegressor\n",
        "from sklearn.ensemble import GradientBoostingRegressor\n",
        "from sklearn.tree  import DecisionTreeRegressor\n",
        "\n",
        "from sklearn.metrics import explained_variance_score\n",
        "from sklearn.metrics import roc_auc_score\n",
        "from sklearn.metrics import fbeta_score\n",
        "from sklearn.metrics import accuracy_score \n",
        "from sklearn.metrics import mean_squared_error\n",
        "\n",
        "%matplotlib inline\n",
        "\n",
        "from plotnine import *\n",
        "# from shap import TreeExplainer, summary_plot"
      ],
      "execution_count": 3,
      "outputs": [
        {
          "output_type": "stream",
          "text": [
            "Requirement already up-to-date: pip in /usr/local/lib/python3.6/dist-packages (19.0.3)\n",
            "Requirement already up-to-date: scipy in /usr/local/lib/python3.6/dist-packages (1.2.1)\n",
            "Requirement already satisfied, skipping upgrade: numpy>=1.8.2 in /usr/local/lib/python3.6/dist-packages (from scipy) (1.16.2)\n",
            "Requirement already satisfied: plotnine in /usr/local/lib/python3.6/dist-packages (0.5.1)\n",
            "Requirement already satisfied: pandas>=0.23.4 in /usr/local/lib/python3.6/dist-packages (from plotnine) (0.23.4)\n",
            "Requirement already satisfied: matplotlib>=3.0.0 in /usr/local/lib/python3.6/dist-packages (from plotnine) (3.0.3)\n",
            "Requirement already satisfied: numpy in /usr/local/lib/python3.6/dist-packages (from plotnine) (1.16.2)\n",
            "Requirement already satisfied: descartes>=1.1.0 in /usr/local/lib/python3.6/dist-packages (from plotnine) (1.1.0)\n",
            "Requirement already satisfied: mizani>=0.5.2 in /usr/local/lib/python3.6/dist-packages (from plotnine) (0.5.4)\n",
            "Requirement already satisfied: statsmodels>=0.8.0 in /usr/local/lib/python3.6/dist-packages (from plotnine) (0.8.0)\n",
            "Requirement already satisfied: scipy>=1.0.0 in /usr/local/lib/python3.6/dist-packages (from plotnine) (1.2.1)\n",
            "Requirement already satisfied: patsy>=0.4.1 in /usr/local/lib/python3.6/dist-packages (from plotnine) (0.5.1)\n",
            "Requirement already satisfied: pytz>=2011k in /usr/local/lib/python3.6/dist-packages (from pandas>=0.23.4->plotnine) (2018.9)\n",
            "Requirement already satisfied: python-dateutil>=2.5.0 in /usr/local/lib/python3.6/dist-packages (from pandas>=0.23.4->plotnine) (2.5.3)\n",
            "Requirement already satisfied: kiwisolver>=1.0.1 in /usr/local/lib/python3.6/dist-packages (from matplotlib>=3.0.0->plotnine) (1.0.1)\n",
            "Requirement already satisfied: cycler>=0.10 in /usr/local/lib/python3.6/dist-packages (from matplotlib>=3.0.0->plotnine) (0.10.0)\n",
            "Requirement already satisfied: pyparsing!=2.0.4,!=2.1.2,!=2.1.6,>=2.0.1 in /usr/local/lib/python3.6/dist-packages (from matplotlib>=3.0.0->plotnine) (2.4.0)\n",
            "Requirement already satisfied: palettable in /usr/local/lib/python3.6/dist-packages (from mizani>=0.5.2->plotnine) (3.1.1)\n",
            "Requirement already satisfied: six in /usr/local/lib/python3.6/dist-packages (from patsy>=0.4.1->plotnine) (1.11.0)\n",
            "Requirement already satisfied: setuptools in /usr/local/lib/python3.6/dist-packages (from kiwisolver>=1.0.1->matplotlib>=3.0.0->plotnine) (40.9.0)\n"
          ],
          "name": "stdout"
        }
      ]
    },
    {
      "metadata": {
        "id": "q4Z2PWMJhWrY",
        "colab_type": "code",
        "colab": {}
      },
      "cell_type": "code",
      "source": [
        ""
      ],
      "execution_count": 0,
      "outputs": []
    },
    {
      "metadata": {
        "id": "qB02KsFDiApu",
        "colab_type": "text"
      },
      "cell_type": "markdown",
      "source": [
        "## Google Sheets\n",
        "\n",
        "* https://gspread.readthedocs.io/en/latest/user-guide.html\n",
        "* https://developers.google.com/sheets/api/quickstart/python\n",
        "* https://colab.research.google.com/notebooks/io.ipynb#scrollTo=JiJVCmu3dhFa\n",
        "* https://github.com/burnash/gspread\n",
        "* https://www.youtube.com/watch?v=vISRn5qFrkM\n",
        "* https://www.twilio.com/blog/2017/02/an-easy-way-to-read-and-write-to-a-google-spreadsheet-in-python.html?utm_source=youtube&utm_medium=video&utm_campaign=youtube_python_google_sheets\n",
        "\n",
        "### my\n",
        "* https://docs.google.com/spreadsheets/d/1Dq-peofoLFtqVT0TXm9_VCZa93BW5lkUP52uhw6J1qc/edit#gid=1701513987"
      ]
    },
    {
      "metadata": {
        "id": "0ial0_PliEF4",
        "colab_type": "code",
        "colab": {}
      },
      "cell_type": "code",
      "source": [
        "!pip install --upgrade -q gspread\n",
        "\n",
        "import gspread\n",
        "from oauth2client.client import GoogleCredentials\n",
        "\n",
        "gc = gspread.authorize(GoogleCredentials.get_application_default())"
      ],
      "execution_count": 0,
      "outputs": []
    },
    {
      "metadata": {
        "id": "tiDhUiY7iqdr",
        "colab_type": "text"
      },
      "cell_type": "markdown",
      "source": [
        "### Creating a Spreadsheet"
      ]
    },
    {
      "metadata": {
        "id": "M8r-7eEOipRa",
        "colab_type": "code",
        "colab": {}
      },
      "cell_type": "code",
      "source": [
        "worksheet = gc.create('2019-2nd-ml-month-with-kakr')"
      ],
      "execution_count": 0,
      "outputs": []
    },
    {
      "metadata": {
        "id": "4Z_0psPxnuiq",
        "colab_type": "text"
      },
      "cell_type": "markdown",
      "source": [
        "### Creating a Worksheet"
      ]
    },
    {
      "metadata": {
        "id": "9AlZeBQzntxk",
        "colab_type": "code",
        "colab": {}
      },
      "cell_type": "code",
      "source": [
        "worksheet = worksheet.add_worksheet(title=\"myfirst\", rows=\"1000\", cols=\"20\")"
      ],
      "execution_count": 0,
      "outputs": []
    },
    {
      "metadata": {
        "id": "WNqcCA4DmgOs",
        "colab_type": "text"
      },
      "cell_type": "markdown",
      "source": [
        "#### or Opening"
      ]
    },
    {
      "metadata": {
        "id": "i7_cr1Bymm7e",
        "colab_type": "code",
        "colab": {}
      },
      "cell_type": "code",
      "source": [
        "worksheet = gc.open('2019-2nd-ml-month-with-kakr').sheet1"
      ],
      "execution_count": 0,
      "outputs": []
    },
    {
      "metadata": {
        "id": "E4-0YeyhmRFk",
        "colab_type": "text"
      },
      "cell_type": "markdown",
      "source": [
        "### Basic Usage"
      ]
    },
    {
      "metadata": {
        "id": "ZMzN_7SUlSA-",
        "colab_type": "code",
        "outputId": "a33cc866-fdcf-4426-c01c-74e961bb21b4",
        "colab": {
          "base_uri": "https://localhost:8080/",
          "height": 204
        }
      },
      "cell_type": "code",
      "source": [
        "worksheet_rows = worksheet.get_all_values()\n",
        "gs_worksheet = pd.DataFrame.from_records(worksheet_rows)\n",
        "gs_worksheet.head()"
      ],
      "execution_count": 6,
      "outputs": [
        {
          "output_type": "execute_result",
          "data": {
            "text/html": [
              "<div>\n",
              "<style scoped>\n",
              "    .dataframe tbody tr th:only-of-type {\n",
              "        vertical-align: middle;\n",
              "    }\n",
              "\n",
              "    .dataframe tbody tr th {\n",
              "        vertical-align: top;\n",
              "    }\n",
              "\n",
              "    .dataframe thead th {\n",
              "        text-align: right;\n",
              "    }\n",
              "</style>\n",
              "<table border=\"1\" class=\"dataframe\">\n",
              "  <thead>\n",
              "    <tr style=\"text-align: right;\">\n",
              "      <th></th>\n",
              "      <th>0</th>\n",
              "      <th>1</th>\n",
              "      <th>2</th>\n",
              "      <th>3</th>\n",
              "      <th>4</th>\n",
              "      <th>5</th>\n",
              "      <th>6</th>\n",
              "    </tr>\n",
              "  </thead>\n",
              "  <tbody>\n",
              "    <tr>\n",
              "      <th>0</th>\n",
              "      <td>N</td>\n",
              "      <td>Day</td>\n",
              "      <td>Main_Model</td>\n",
              "      <td>Para</td>\n",
              "      <td>Scaler</td>\n",
              "      <td>Score</td>\n",
              "      <td></td>\n",
              "    </tr>\n",
              "    <tr>\n",
              "      <th>1</th>\n",
              "      <td>2</td>\n",
              "      <td>03/23</td>\n",
              "      <td>GradientBoostingRegressor</td>\n",
              "      <td>n_estimators=400, max_depth=5, loss='ls', min_...</td>\n",
              "      <td>MaxAbsScaler</td>\n",
              "      <td>12267766897</td>\n",
              "      <td></td>\n",
              "    </tr>\n",
              "    <tr>\n",
              "      <th>2</th>\n",
              "      <td>38</td>\n",
              "      <td>03/23</td>\n",
              "      <td>GradientBoostingRegressor</td>\n",
              "      <td>GradientBoostingRegressor(alpha=0.9, criterion...</td>\n",
              "      <td>MaxAbsScaler</td>\n",
              "      <td>13001897071</td>\n",
              "      <td></td>\n",
              "    </tr>\n",
              "    <tr>\n",
              "      <th>3</th>\n",
              "      <td>30</td>\n",
              "      <td>03/23</td>\n",
              "      <td>GradientBoostingRegressor</td>\n",
              "      <td>GradientBoostingRegressor(alpha=0.9, criterion...</td>\n",
              "      <td>MaxAbsScaler</td>\n",
              "      <td>13103439913</td>\n",
              "      <td></td>\n",
              "    </tr>\n",
              "    <tr>\n",
              "      <th>4</th>\n",
              "      <td>39</td>\n",
              "      <td>03/23</td>\n",
              "      <td>GradientBoostingRegressor</td>\n",
              "      <td>GradientBoostingRegressor(alpha=0.9, criterion...</td>\n",
              "      <td>StandardScaler</td>\n",
              "      <td>13429694268</td>\n",
              "      <td></td>\n",
              "    </tr>\n",
              "  </tbody>\n",
              "</table>\n",
              "</div>"
            ],
            "text/plain": [
              "    0      1                          2  \\\n",
              "0   N    Day                 Main_Model   \n",
              "1   2  03/23  GradientBoostingRegressor   \n",
              "2  38  03/23  GradientBoostingRegressor   \n",
              "3  30  03/23  GradientBoostingRegressor   \n",
              "4  39  03/23  GradientBoostingRegressor   \n",
              "\n",
              "                                                   3               4  \\\n",
              "0                                               Para          Scaler   \n",
              "1  n_estimators=400, max_depth=5, loss='ls', min_...    MaxAbsScaler   \n",
              "2  GradientBoostingRegressor(alpha=0.9, criterion...    MaxAbsScaler   \n",
              "3  GradientBoostingRegressor(alpha=0.9, criterion...    MaxAbsScaler   \n",
              "4  GradientBoostingRegressor(alpha=0.9, criterion...  StandardScaler   \n",
              "\n",
              "             5 6  \n",
              "0        Score    \n",
              "1  12267766897    \n",
              "2  13001897071    \n",
              "3  13103439913    \n",
              "4  13429694268    "
            ]
          },
          "metadata": {
            "tags": []
          },
          "execution_count": 6
        }
      ]
    },
    {
      "metadata": {
        "id": "6a57BsqVcBpp",
        "colab_type": "code",
        "colab": {}
      },
      "cell_type": "code",
      "source": [
        "plt.style.use('ggplot')\n",
        "plt.rcParams['figure.figsize'] = (12, 8)\n",
        "plt.rcParams['font.size'] = 12\n",
        "\n",
        "pd.options.display.max_rows = 10000\n",
        "pd.options.display.max_columns = 10000\n",
        "pd.options.display.max_colwidth = 1000"
      ],
      "execution_count": 0,
      "outputs": []
    },
    {
      "metadata": {
        "id": "cJOUsUfEgJdq",
        "colab_type": "text"
      },
      "cell_type": "markdown",
      "source": [
        "# Data Load"
      ]
    },
    {
      "metadata": {
        "id": "jZIza9_Ii-xn",
        "colab_type": "text"
      },
      "cell_type": "markdown",
      "source": [
        ""
      ]
    },
    {
      "metadata": {
        "id": "N3ksZflrdfBf",
        "colab_type": "code",
        "colab": {}
      },
      "cell_type": "code",
      "source": [
        "RANDOM_SEED = 631\n",
        "np.random.seed(RANDOM_SEED)"
      ],
      "execution_count": 0,
      "outputs": []
    },
    {
      "metadata": {
        "id": "zOG-CVRweuQP",
        "colab_type": "code",
        "colab": {}
      },
      "cell_type": "code",
      "source": [
        "train = pd.read_csv(\"./gdrive/My Drive/!DataSets/2019-2nd-ml-month-with-kakr/train.csv\", index_col=0)\n",
        "test = pd.read_csv(\"./gdrive/My Drive/!DataSets/2019-2nd-ml-month-with-kakr/test.csv\", index_col=0)"
      ],
      "execution_count": 0,
      "outputs": []
    },
    {
      "metadata": {
        "id": "FSiOPsCXoR_U",
        "colab_type": "code",
        "outputId": "3b5f2283-9884-4ead-b0a9-e5986d772a6d",
        "colab": {
          "base_uri": "https://localhost:8080/",
          "height": 53
        }
      },
      "cell_type": "code",
      "source": [
        "print(train.shape, train.isnull().sum().sum())\n",
        "print(test.shape, test.isnull().sum().sum())"
      ],
      "execution_count": 10,
      "outputs": [
        {
          "output_type": "stream",
          "text": [
            "(15035, 20) 0\n",
            "(6468, 19) 0\n"
          ],
          "name": "stdout"
        }
      ]
    },
    {
      "metadata": {
        "id": "vU8cf5mUeuSZ",
        "colab_type": "code",
        "colab": {}
      },
      "cell_type": "code",
      "source": [
        "price_raw = train['price']\n",
        "train.drop('price', axis = 1, inplace=True)"
      ],
      "execution_count": 0,
      "outputs": []
    },
    {
      "metadata": {
        "id": "_pHn30dM12BT",
        "colab_type": "code",
        "colab": {
          "base_uri": "https://localhost:8080/",
          "height": 53
        },
        "outputId": "a64d07cd-e51f-44e3-a43b-60961d58fc19"
      },
      "cell_type": "code",
      "source": [
        "print(train.shape, train.isnull().sum().sum())\n",
        "print(test.shape, test.isnull().sum().sum())"
      ],
      "execution_count": 12,
      "outputs": [
        {
          "output_type": "stream",
          "text": [
            "(15035, 19) 0\n",
            "(6468, 19) 0\n"
          ],
          "name": "stdout"
        }
      ]
    },
    {
      "metadata": {
        "id": "N1HOrmB7D13w",
        "colab_type": "code",
        "outputId": "d32c2321-4f8b-453d-f180-eee3ec96f8c0",
        "colab": {
          "base_uri": "https://localhost:8080/",
          "height": 255
        }
      },
      "cell_type": "code",
      "source": [
        "train.head()"
      ],
      "execution_count": 13,
      "outputs": [
        {
          "output_type": "execute_result",
          "data": {
            "text/html": [
              "<div>\n",
              "<style scoped>\n",
              "    .dataframe tbody tr th:only-of-type {\n",
              "        vertical-align: middle;\n",
              "    }\n",
              "\n",
              "    .dataframe tbody tr th {\n",
              "        vertical-align: top;\n",
              "    }\n",
              "\n",
              "    .dataframe thead th {\n",
              "        text-align: right;\n",
              "    }\n",
              "</style>\n",
              "<table border=\"1\" class=\"dataframe\">\n",
              "  <thead>\n",
              "    <tr style=\"text-align: right;\">\n",
              "      <th></th>\n",
              "      <th>date</th>\n",
              "      <th>bedrooms</th>\n",
              "      <th>bathrooms</th>\n",
              "      <th>sqft_living</th>\n",
              "      <th>sqft_lot</th>\n",
              "      <th>floors</th>\n",
              "      <th>waterfront</th>\n",
              "      <th>view</th>\n",
              "      <th>condition</th>\n",
              "      <th>grade</th>\n",
              "      <th>sqft_above</th>\n",
              "      <th>sqft_basement</th>\n",
              "      <th>yr_built</th>\n",
              "      <th>yr_renovated</th>\n",
              "      <th>zipcode</th>\n",
              "      <th>lat</th>\n",
              "      <th>long</th>\n",
              "      <th>sqft_living15</th>\n",
              "      <th>sqft_lot15</th>\n",
              "    </tr>\n",
              "    <tr>\n",
              "      <th>id</th>\n",
              "      <th></th>\n",
              "      <th></th>\n",
              "      <th></th>\n",
              "      <th></th>\n",
              "      <th></th>\n",
              "      <th></th>\n",
              "      <th></th>\n",
              "      <th></th>\n",
              "      <th></th>\n",
              "      <th></th>\n",
              "      <th></th>\n",
              "      <th></th>\n",
              "      <th></th>\n",
              "      <th></th>\n",
              "      <th></th>\n",
              "      <th></th>\n",
              "      <th></th>\n",
              "      <th></th>\n",
              "      <th></th>\n",
              "    </tr>\n",
              "  </thead>\n",
              "  <tbody>\n",
              "    <tr>\n",
              "      <th>0</th>\n",
              "      <td>20141013T000000</td>\n",
              "      <td>3</td>\n",
              "      <td>1.00</td>\n",
              "      <td>1180</td>\n",
              "      <td>5650</td>\n",
              "      <td>1.0</td>\n",
              "      <td>0</td>\n",
              "      <td>0</td>\n",
              "      <td>3</td>\n",
              "      <td>7</td>\n",
              "      <td>1180</td>\n",
              "      <td>0</td>\n",
              "      <td>1955</td>\n",
              "      <td>0</td>\n",
              "      <td>98178</td>\n",
              "      <td>47.5112</td>\n",
              "      <td>-122.257</td>\n",
              "      <td>1340</td>\n",
              "      <td>5650</td>\n",
              "    </tr>\n",
              "    <tr>\n",
              "      <th>1</th>\n",
              "      <td>20150225T000000</td>\n",
              "      <td>2</td>\n",
              "      <td>1.00</td>\n",
              "      <td>770</td>\n",
              "      <td>10000</td>\n",
              "      <td>1.0</td>\n",
              "      <td>0</td>\n",
              "      <td>0</td>\n",
              "      <td>3</td>\n",
              "      <td>6</td>\n",
              "      <td>770</td>\n",
              "      <td>0</td>\n",
              "      <td>1933</td>\n",
              "      <td>0</td>\n",
              "      <td>98028</td>\n",
              "      <td>47.7379</td>\n",
              "      <td>-122.233</td>\n",
              "      <td>2720</td>\n",
              "      <td>8062</td>\n",
              "    </tr>\n",
              "    <tr>\n",
              "      <th>2</th>\n",
              "      <td>20150218T000000</td>\n",
              "      <td>3</td>\n",
              "      <td>2.00</td>\n",
              "      <td>1680</td>\n",
              "      <td>8080</td>\n",
              "      <td>1.0</td>\n",
              "      <td>0</td>\n",
              "      <td>0</td>\n",
              "      <td>3</td>\n",
              "      <td>8</td>\n",
              "      <td>1680</td>\n",
              "      <td>0</td>\n",
              "      <td>1987</td>\n",
              "      <td>0</td>\n",
              "      <td>98074</td>\n",
              "      <td>47.6168</td>\n",
              "      <td>-122.045</td>\n",
              "      <td>1800</td>\n",
              "      <td>7503</td>\n",
              "    </tr>\n",
              "    <tr>\n",
              "      <th>3</th>\n",
              "      <td>20140627T000000</td>\n",
              "      <td>3</td>\n",
              "      <td>2.25</td>\n",
              "      <td>1715</td>\n",
              "      <td>6819</td>\n",
              "      <td>2.0</td>\n",
              "      <td>0</td>\n",
              "      <td>0</td>\n",
              "      <td>3</td>\n",
              "      <td>7</td>\n",
              "      <td>1715</td>\n",
              "      <td>0</td>\n",
              "      <td>1995</td>\n",
              "      <td>0</td>\n",
              "      <td>98003</td>\n",
              "      <td>47.3097</td>\n",
              "      <td>-122.327</td>\n",
              "      <td>2238</td>\n",
              "      <td>6819</td>\n",
              "    </tr>\n",
              "    <tr>\n",
              "      <th>4</th>\n",
              "      <td>20150115T000000</td>\n",
              "      <td>3</td>\n",
              "      <td>1.50</td>\n",
              "      <td>1060</td>\n",
              "      <td>9711</td>\n",
              "      <td>1.0</td>\n",
              "      <td>0</td>\n",
              "      <td>0</td>\n",
              "      <td>3</td>\n",
              "      <td>7</td>\n",
              "      <td>1060</td>\n",
              "      <td>0</td>\n",
              "      <td>1963</td>\n",
              "      <td>0</td>\n",
              "      <td>98198</td>\n",
              "      <td>47.4095</td>\n",
              "      <td>-122.315</td>\n",
              "      <td>1650</td>\n",
              "      <td>9711</td>\n",
              "    </tr>\n",
              "  </tbody>\n",
              "</table>\n",
              "</div>"
            ],
            "text/plain": [
              "               date  bedrooms  bathrooms  sqft_living  sqft_lot  floors  \\\n",
              "id                                                                        \n",
              "0   20141013T000000         3       1.00         1180      5650     1.0   \n",
              "1   20150225T000000         2       1.00          770     10000     1.0   \n",
              "2   20150218T000000         3       2.00         1680      8080     1.0   \n",
              "3   20140627T000000         3       2.25         1715      6819     2.0   \n",
              "4   20150115T000000         3       1.50         1060      9711     1.0   \n",
              "\n",
              "    waterfront  view  condition  grade  sqft_above  sqft_basement  yr_built  \\\n",
              "id                                                                            \n",
              "0            0     0          3      7        1180              0      1955   \n",
              "1            0     0          3      6         770              0      1933   \n",
              "2            0     0          3      8        1680              0      1987   \n",
              "3            0     0          3      7        1715              0      1995   \n",
              "4            0     0          3      7        1060              0      1963   \n",
              "\n",
              "    yr_renovated  zipcode      lat     long  sqft_living15  sqft_lot15  \n",
              "id                                                                      \n",
              "0              0    98178  47.5112 -122.257           1340        5650  \n",
              "1              0    98028  47.7379 -122.233           2720        8062  \n",
              "2              0    98074  47.6168 -122.045           1800        7503  \n",
              "3              0    98003  47.3097 -122.327           2238        6819  \n",
              "4              0    98198  47.4095 -122.315           1650        9711  "
            ]
          },
          "metadata": {
            "tags": []
          },
          "execution_count": 13
        }
      ]
    },
    {
      "metadata": {
        "id": "Vu682HdtgTSm",
        "colab_type": "text"
      },
      "cell_type": "markdown",
      "source": [
        "# Pre-processing"
      ]
    },
    {
      "metadata": {
        "id": "sN0O5yr8euUi",
        "colab_type": "code",
        "colab": {}
      },
      "cell_type": "code",
      "source": [
        "def clean_data(dataset):\n",
        "    # Explo data\n",
        "    # print('Raw Dataset shape :'.ljust(36), 'col', dataset.shape[0], 'row', dataset.shape[1])\n",
        "    null_list = {}\n",
        "    for i in train.columns:\n",
        "        colnull = train[i].isnull().sum()\n",
        "        if not colnull == 0:\n",
        "            null_list[i] = colnull\n",
        "    # print('missing value colnames and counts : '.ljust(36), null_list)\n",
        "\n",
        "    # date column\n",
        "    dataset['data_y'] = ''\n",
        "    dataset['data_m'] = ''\n",
        "    dataset['data_y'] = dataset['date'].apply(lambda x : str(x[:4])).astype(int)\n",
        "    dataset['data_m'] = dataset['date'].apply(lambda x : str(x[4:6])).astype(int)\n",
        "    dataset.drop('date', axis=1, inplace=True)\n",
        "    # print('date dropped Dataset shape :'.ljust(36), 'col', dataset.shape[0], 'row', dataset.shape[1])\n",
        "\n",
        "    # type check\n",
        "    # for i in dataset.columns:\n",
        "    #     colty = dataset[i].dtype\n",
        "    #     if not colty == 'int64' and not colty == 'float64':\n",
        "    #         print(i.ljust(15),'column is a', str(dataset[i].dtype).ljust(8), 'type')\n",
        "    return dataset"
      ],
      "execution_count": 0,
      "outputs": []
    },
    {
      "metadata": {
        "id": "QP9YdV5iw9Kc",
        "colab_type": "code",
        "colab": {}
      },
      "cell_type": "code",
      "source": [
        "cleaned_train = clean_data(train)\n",
        "cleaned_test = clean_data(test)"
      ],
      "execution_count": 0,
      "outputs": []
    },
    {
      "metadata": {
        "id": "_v7h3itbshh_",
        "colab_type": "text"
      },
      "cell_type": "markdown",
      "source": [
        "## GEO"
      ]
    },
    {
      "metadata": {
        "id": "pYatvPNo31Dr",
        "colab_type": "code",
        "colab": {
          "base_uri": "https://localhost:8080/",
          "height": 143
        },
        "outputId": "ce3d2367-13ea-465f-ef2c-6e856390ef39"
      },
      "cell_type": "code",
      "source": [
        "cleaned_train['zipcode'].head()"
      ],
      "execution_count": 27,
      "outputs": [
        {
          "output_type": "execute_result",
          "data": {
            "text/plain": [
              "id\n",
              "0    98178\n",
              "1    98028\n",
              "2    98074\n",
              "3    98003\n",
              "4    98198\n",
              "Name: zipcode, dtype: object"
            ]
          },
          "metadata": {
            "tags": []
          },
          "execution_count": 27
        }
      ]
    },
    {
      "metadata": {
        "id": "cnmWXGjAsg5b",
        "colab_type": "code",
        "colab": {}
      },
      "cell_type": "code",
      "source": [
        "def geogege(data):\n",
        "  data['zipcode'] = data['zipcode'].astype(str)  \n",
        "  data['zipcode-3'] = data['zipcode'].apply(lambda x : str(x[2:3])).astype(int)\n",
        "  data['zipcode-4'] = data['zipcode'].apply(lambda x : str(x[3:4])).astype(int)\n",
        "  data['zipcode-5'] = data['zipcode'].apply(lambda x : str(x[4:5])).astype(int)\n",
        "  data['zipcode-34'] = data['zipcode'].apply(lambda x : str(x[2:4])).astype(int)\n",
        "  data['zipcode-45'] = data['zipcode'].apply(lambda x : str(x[3:5])).astype(int)\n",
        "  data['zipcode-35'] = data['zipcode'].apply(lambda x : str(x[2:5])).astype(int)\n",
        "  data.drop('zipcode', axis=1, inplace=True)\n",
        "  return data"
      ],
      "execution_count": 0,
      "outputs": []
    },
    {
      "metadata": {
        "id": "Bav54FG22NnV",
        "colab_type": "code",
        "colab": {}
      },
      "cell_type": "code",
      "source": [
        "geoge_train = geogege(cleaned_train)\n",
        "geoge_test = geogege(cleaned_test)"
      ],
      "execution_count": 0,
      "outputs": []
    },
    {
      "metadata": {
        "id": "sn_MOB7-5lPp",
        "colab_type": "code",
        "colab": {
          "base_uri": "https://localhost:8080/",
          "height": 272
        },
        "outputId": "80afbd36-c605-4798-908b-4ad217539f3b"
      },
      "cell_type": "code",
      "source": [
        "geoge_train.head()"
      ],
      "execution_count": 36,
      "outputs": [
        {
          "output_type": "execute_result",
          "data": {
            "text/html": [
              "<div>\n",
              "<style scoped>\n",
              "    .dataframe tbody tr th:only-of-type {\n",
              "        vertical-align: middle;\n",
              "    }\n",
              "\n",
              "    .dataframe tbody tr th {\n",
              "        vertical-align: top;\n",
              "    }\n",
              "\n",
              "    .dataframe thead th {\n",
              "        text-align: right;\n",
              "    }\n",
              "</style>\n",
              "<table border=\"1\" class=\"dataframe\">\n",
              "  <thead>\n",
              "    <tr style=\"text-align: right;\">\n",
              "      <th></th>\n",
              "      <th>bedrooms</th>\n",
              "      <th>bathrooms</th>\n",
              "      <th>sqft_living</th>\n",
              "      <th>sqft_lot</th>\n",
              "      <th>floors</th>\n",
              "      <th>waterfront</th>\n",
              "      <th>view</th>\n",
              "      <th>condition</th>\n",
              "      <th>grade</th>\n",
              "      <th>sqft_above</th>\n",
              "      <th>sqft_basement</th>\n",
              "      <th>yr_built</th>\n",
              "      <th>yr_renovated</th>\n",
              "      <th>lat</th>\n",
              "      <th>long</th>\n",
              "      <th>sqft_living15</th>\n",
              "      <th>sqft_lot15</th>\n",
              "      <th>data_y</th>\n",
              "      <th>data_m</th>\n",
              "      <th>zipcode-3</th>\n",
              "      <th>zipcode-4</th>\n",
              "      <th>zipcode-5</th>\n",
              "      <th>zipcode-34</th>\n",
              "      <th>zipcode-45</th>\n",
              "      <th>zipcode-35</th>\n",
              "    </tr>\n",
              "    <tr>\n",
              "      <th>id</th>\n",
              "      <th></th>\n",
              "      <th></th>\n",
              "      <th></th>\n",
              "      <th></th>\n",
              "      <th></th>\n",
              "      <th></th>\n",
              "      <th></th>\n",
              "      <th></th>\n",
              "      <th></th>\n",
              "      <th></th>\n",
              "      <th></th>\n",
              "      <th></th>\n",
              "      <th></th>\n",
              "      <th></th>\n",
              "      <th></th>\n",
              "      <th></th>\n",
              "      <th></th>\n",
              "      <th></th>\n",
              "      <th></th>\n",
              "      <th></th>\n",
              "      <th></th>\n",
              "      <th></th>\n",
              "      <th></th>\n",
              "      <th></th>\n",
              "      <th></th>\n",
              "    </tr>\n",
              "  </thead>\n",
              "  <tbody>\n",
              "    <tr>\n",
              "      <th>0</th>\n",
              "      <td>3</td>\n",
              "      <td>1.00</td>\n",
              "      <td>1180</td>\n",
              "      <td>5650</td>\n",
              "      <td>1.0</td>\n",
              "      <td>0</td>\n",
              "      <td>0</td>\n",
              "      <td>3</td>\n",
              "      <td>7</td>\n",
              "      <td>1180</td>\n",
              "      <td>0</td>\n",
              "      <td>1955</td>\n",
              "      <td>0</td>\n",
              "      <td>47.5112</td>\n",
              "      <td>-122.257</td>\n",
              "      <td>1340</td>\n",
              "      <td>5650</td>\n",
              "      <td>2014</td>\n",
              "      <td>10</td>\n",
              "      <td>1</td>\n",
              "      <td>7</td>\n",
              "      <td>8</td>\n",
              "      <td>17</td>\n",
              "      <td>78</td>\n",
              "      <td>178</td>\n",
              "    </tr>\n",
              "    <tr>\n",
              "      <th>1</th>\n",
              "      <td>2</td>\n",
              "      <td>1.00</td>\n",
              "      <td>770</td>\n",
              "      <td>10000</td>\n",
              "      <td>1.0</td>\n",
              "      <td>0</td>\n",
              "      <td>0</td>\n",
              "      <td>3</td>\n",
              "      <td>6</td>\n",
              "      <td>770</td>\n",
              "      <td>0</td>\n",
              "      <td>1933</td>\n",
              "      <td>0</td>\n",
              "      <td>47.7379</td>\n",
              "      <td>-122.233</td>\n",
              "      <td>2720</td>\n",
              "      <td>8062</td>\n",
              "      <td>2015</td>\n",
              "      <td>2</td>\n",
              "      <td>0</td>\n",
              "      <td>2</td>\n",
              "      <td>8</td>\n",
              "      <td>2</td>\n",
              "      <td>28</td>\n",
              "      <td>28</td>\n",
              "    </tr>\n",
              "    <tr>\n",
              "      <th>2</th>\n",
              "      <td>3</td>\n",
              "      <td>2.00</td>\n",
              "      <td>1680</td>\n",
              "      <td>8080</td>\n",
              "      <td>1.0</td>\n",
              "      <td>0</td>\n",
              "      <td>0</td>\n",
              "      <td>3</td>\n",
              "      <td>8</td>\n",
              "      <td>1680</td>\n",
              "      <td>0</td>\n",
              "      <td>1987</td>\n",
              "      <td>0</td>\n",
              "      <td>47.6168</td>\n",
              "      <td>-122.045</td>\n",
              "      <td>1800</td>\n",
              "      <td>7503</td>\n",
              "      <td>2015</td>\n",
              "      <td>2</td>\n",
              "      <td>0</td>\n",
              "      <td>7</td>\n",
              "      <td>4</td>\n",
              "      <td>7</td>\n",
              "      <td>74</td>\n",
              "      <td>74</td>\n",
              "    </tr>\n",
              "    <tr>\n",
              "      <th>3</th>\n",
              "      <td>3</td>\n",
              "      <td>2.25</td>\n",
              "      <td>1715</td>\n",
              "      <td>6819</td>\n",
              "      <td>2.0</td>\n",
              "      <td>0</td>\n",
              "      <td>0</td>\n",
              "      <td>3</td>\n",
              "      <td>7</td>\n",
              "      <td>1715</td>\n",
              "      <td>0</td>\n",
              "      <td>1995</td>\n",
              "      <td>0</td>\n",
              "      <td>47.3097</td>\n",
              "      <td>-122.327</td>\n",
              "      <td>2238</td>\n",
              "      <td>6819</td>\n",
              "      <td>2014</td>\n",
              "      <td>6</td>\n",
              "      <td>0</td>\n",
              "      <td>0</td>\n",
              "      <td>3</td>\n",
              "      <td>0</td>\n",
              "      <td>3</td>\n",
              "      <td>3</td>\n",
              "    </tr>\n",
              "    <tr>\n",
              "      <th>4</th>\n",
              "      <td>3</td>\n",
              "      <td>1.50</td>\n",
              "      <td>1060</td>\n",
              "      <td>9711</td>\n",
              "      <td>1.0</td>\n",
              "      <td>0</td>\n",
              "      <td>0</td>\n",
              "      <td>3</td>\n",
              "      <td>7</td>\n",
              "      <td>1060</td>\n",
              "      <td>0</td>\n",
              "      <td>1963</td>\n",
              "      <td>0</td>\n",
              "      <td>47.4095</td>\n",
              "      <td>-122.315</td>\n",
              "      <td>1650</td>\n",
              "      <td>9711</td>\n",
              "      <td>2015</td>\n",
              "      <td>1</td>\n",
              "      <td>1</td>\n",
              "      <td>9</td>\n",
              "      <td>8</td>\n",
              "      <td>19</td>\n",
              "      <td>98</td>\n",
              "      <td>198</td>\n",
              "    </tr>\n",
              "  </tbody>\n",
              "</table>\n",
              "</div>"
            ],
            "text/plain": [
              "    bedrooms  bathrooms  sqft_living  sqft_lot  floors  waterfront  view  \\\n",
              "id                                                                         \n",
              "0          3       1.00         1180      5650     1.0           0     0   \n",
              "1          2       1.00          770     10000     1.0           0     0   \n",
              "2          3       2.00         1680      8080     1.0           0     0   \n",
              "3          3       2.25         1715      6819     2.0           0     0   \n",
              "4          3       1.50         1060      9711     1.0           0     0   \n",
              "\n",
              "    condition  grade  sqft_above  sqft_basement  yr_built  yr_renovated  \\\n",
              "id                                                                        \n",
              "0           3      7        1180              0      1955             0   \n",
              "1           3      6         770              0      1933             0   \n",
              "2           3      8        1680              0      1987             0   \n",
              "3           3      7        1715              0      1995             0   \n",
              "4           3      7        1060              0      1963             0   \n",
              "\n",
              "        lat     long  sqft_living15  sqft_lot15  data_y  data_m  zipcode-3  \\\n",
              "id                                                                           \n",
              "0   47.5112 -122.257           1340        5650    2014      10          1   \n",
              "1   47.7379 -122.233           2720        8062    2015       2          0   \n",
              "2   47.6168 -122.045           1800        7503    2015       2          0   \n",
              "3   47.3097 -122.327           2238        6819    2014       6          0   \n",
              "4   47.4095 -122.315           1650        9711    2015       1          1   \n",
              "\n",
              "    zipcode-4  zipcode-5  zipcode-34  zipcode-45  zipcode-35  \n",
              "id                                                            \n",
              "0           7          8          17          78         178  \n",
              "1           2          8           2          28          28  \n",
              "2           7          4           7          74          74  \n",
              "3           0          3           0           3           3  \n",
              "4           9          8          19          98         198  "
            ]
          },
          "metadata": {
            "tags": []
          },
          "execution_count": 36
        }
      ]
    },
    {
      "metadata": {
        "id": "67Q2S-nCya8P",
        "colab_type": "text"
      },
      "cell_type": "markdown",
      "source": [
        "## Transforming Skewed Continuous Features"
      ]
    },
    {
      "metadata": {
        "id": "aaBMhyKfyWwG",
        "colab_type": "code",
        "colab": {}
      },
      "cell_type": "code",
      "source": [
        "def Skewed_CF(dataset):\n",
        "  skewed = ['sqft_living', 'sqft_lot', 'sqft_living15', 'sqft_lot15', 'sqft_above', 'sqft_basement']\n",
        "  features_log_transformed = pd.DataFrame(data = dataset)\n",
        "  features_log_transformed[skewed] = dataset[skewed].apply(lambda x: np.log(x + 1))\n",
        "  return features_log_transformed"
      ],
      "execution_count": 0,
      "outputs": []
    },
    {
      "metadata": {
        "id": "w6j-shQJ5wT_",
        "colab_type": "code",
        "colab": {}
      },
      "cell_type": "code",
      "source": [
        "Skewed_train = Skewed_CF(geoge_train)\n",
        "Skewed_test = Skewed_CF(geoge_test)"
      ],
      "execution_count": 0,
      "outputs": []
    },
    {
      "metadata": {
        "id": "RUlHc9FNSb6b",
        "colab_type": "code",
        "colab": {
          "base_uri": "https://localhost:8080/",
          "height": 35
        },
        "outputId": "dd73bdc5-c278-47ff-fda4-d80c3724d80b"
      },
      "cell_type": "code",
      "source": [
        "Skewed_test.shape"
      ],
      "execution_count": 137,
      "outputs": [
        {
          "output_type": "execute_result",
          "data": {
            "text/plain": [
              "(6468, 25)"
            ]
          },
          "metadata": {
            "tags": []
          },
          "execution_count": 137
        }
      ]
    },
    {
      "metadata": {
        "id": "OYLZyMer6Aye",
        "colab_type": "code",
        "colab": {
          "base_uri": "https://localhost:8080/",
          "height": 272
        },
        "outputId": "a1772802-2988-40f1-e69c-eeb3f4927f83"
      },
      "cell_type": "code",
      "source": [
        "Skewed_train.head()"
      ],
      "execution_count": 87,
      "outputs": [
        {
          "output_type": "execute_result",
          "data": {
            "text/html": [
              "<div>\n",
              "<style scoped>\n",
              "    .dataframe tbody tr th:only-of-type {\n",
              "        vertical-align: middle;\n",
              "    }\n",
              "\n",
              "    .dataframe tbody tr th {\n",
              "        vertical-align: top;\n",
              "    }\n",
              "\n",
              "    .dataframe thead th {\n",
              "        text-align: right;\n",
              "    }\n",
              "</style>\n",
              "<table border=\"1\" class=\"dataframe\">\n",
              "  <thead>\n",
              "    <tr style=\"text-align: right;\">\n",
              "      <th></th>\n",
              "      <th>bedrooms</th>\n",
              "      <th>bathrooms</th>\n",
              "      <th>sqft_living</th>\n",
              "      <th>sqft_lot</th>\n",
              "      <th>floors</th>\n",
              "      <th>waterfront</th>\n",
              "      <th>view</th>\n",
              "      <th>condition</th>\n",
              "      <th>grade</th>\n",
              "      <th>sqft_above</th>\n",
              "      <th>sqft_basement</th>\n",
              "      <th>yr_built</th>\n",
              "      <th>yr_renovated</th>\n",
              "      <th>lat</th>\n",
              "      <th>long</th>\n",
              "      <th>sqft_living15</th>\n",
              "      <th>sqft_lot15</th>\n",
              "      <th>data_y</th>\n",
              "      <th>data_m</th>\n",
              "      <th>zipcode-3</th>\n",
              "      <th>zipcode-4</th>\n",
              "      <th>zipcode-5</th>\n",
              "      <th>zipcode-34</th>\n",
              "      <th>zipcode-45</th>\n",
              "      <th>zipcode-35</th>\n",
              "    </tr>\n",
              "    <tr>\n",
              "      <th>id</th>\n",
              "      <th></th>\n",
              "      <th></th>\n",
              "      <th></th>\n",
              "      <th></th>\n",
              "      <th></th>\n",
              "      <th></th>\n",
              "      <th></th>\n",
              "      <th></th>\n",
              "      <th></th>\n",
              "      <th></th>\n",
              "      <th></th>\n",
              "      <th></th>\n",
              "      <th></th>\n",
              "      <th></th>\n",
              "      <th></th>\n",
              "      <th></th>\n",
              "      <th></th>\n",
              "      <th></th>\n",
              "      <th></th>\n",
              "      <th></th>\n",
              "      <th></th>\n",
              "      <th></th>\n",
              "      <th></th>\n",
              "      <th></th>\n",
              "      <th></th>\n",
              "    </tr>\n",
              "  </thead>\n",
              "  <tbody>\n",
              "    <tr>\n",
              "      <th>0</th>\n",
              "      <td>0.0</td>\n",
              "      <td>-1.666667</td>\n",
              "      <td>-0.850896</td>\n",
              "      <td>-0.400570</td>\n",
              "      <td>-0.5</td>\n",
              "      <td>0.0</td>\n",
              "      <td>0.0</td>\n",
              "      <td>0.0</td>\n",
              "      <td>0.0</td>\n",
              "      <td>-0.464395</td>\n",
              "      <td>0.0</td>\n",
              "      <td>-0.434783</td>\n",
              "      <td>0.0</td>\n",
              "      <td>-0.295233</td>\n",
              "      <td>-0.128713</td>\n",
              "      <td>-0.715791</td>\n",
              "      <td>-0.441200</td>\n",
              "      <td>0.0</td>\n",
              "      <td>0.8</td>\n",
              "      <td>1.0</td>\n",
              "      <td>1.00</td>\n",
              "      <td>0.75</td>\n",
              "      <td>1.375</td>\n",
              "      <td>1.153846</td>\n",
              "      <td>1.345238</td>\n",
              "    </tr>\n",
              "    <tr>\n",
              "      <th>1</th>\n",
              "      <td>-1.0</td>\n",
              "      <td>-1.666667</td>\n",
              "      <td>-1.648340</td>\n",
              "      <td>0.353689</td>\n",
              "      <td>-0.5</td>\n",
              "      <td>0.0</td>\n",
              "      <td>0.0</td>\n",
              "      <td>0.0</td>\n",
              "      <td>-1.0</td>\n",
              "      <td>-1.189913</td>\n",
              "      <td>0.0</td>\n",
              "      <td>-0.913043</td>\n",
              "      <td>0.0</td>\n",
              "      <td>0.807393</td>\n",
              "      <td>-0.009901</td>\n",
              "      <td>0.820922</td>\n",
              "      <td>0.083952</td>\n",
              "      <td>1.0</td>\n",
              "      <td>-0.8</td>\n",
              "      <td>0.0</td>\n",
              "      <td>-0.25</td>\n",
              "      <td>0.75</td>\n",
              "      <td>-0.500</td>\n",
              "      <td>-0.128205</td>\n",
              "      <td>-0.440476</td>\n",
              "    </tr>\n",
              "    <tr>\n",
              "      <th>2</th>\n",
              "      <td>0.0</td>\n",
              "      <td>-0.333333</td>\n",
              "      <td>-0.221959</td>\n",
              "      <td>0.077083</td>\n",
              "      <td>-0.5</td>\n",
              "      <td>0.0</td>\n",
              "      <td>0.0</td>\n",
              "      <td>0.0</td>\n",
              "      <td>1.0</td>\n",
              "      <td>0.107814</td>\n",
              "      <td>0.0</td>\n",
              "      <td>0.260870</td>\n",
              "      <td>0.0</td>\n",
              "      <td>0.218385</td>\n",
              "      <td>0.920792</td>\n",
              "      <td>-0.059753</td>\n",
              "      <td>-0.020678</td>\n",
              "      <td>1.0</td>\n",
              "      <td>-0.8</td>\n",
              "      <td>0.0</td>\n",
              "      <td>1.00</td>\n",
              "      <td>-0.25</td>\n",
              "      <td>0.125</td>\n",
              "      <td>1.051282</td>\n",
              "      <td>0.107143</td>\n",
              "    </tr>\n",
              "    <tr>\n",
              "      <th>3</th>\n",
              "      <td>0.0</td>\n",
              "      <td>0.000000</td>\n",
              "      <td>-0.186064</td>\n",
              "      <td>-0.147309</td>\n",
              "      <td>0.5</td>\n",
              "      <td>0.0</td>\n",
              "      <td>0.0</td>\n",
              "      <td>0.0</td>\n",
              "      <td>0.0</td>\n",
              "      <td>0.140471</td>\n",
              "      <td>0.0</td>\n",
              "      <td>0.434783</td>\n",
              "      <td>0.0</td>\n",
              "      <td>-1.275292</td>\n",
              "      <td>-0.475248</td>\n",
              "      <td>0.410026</td>\n",
              "      <td>-0.161039</td>\n",
              "      <td>0.0</td>\n",
              "      <td>0.0</td>\n",
              "      <td>0.0</td>\n",
              "      <td>-0.75</td>\n",
              "      <td>-0.50</td>\n",
              "      <td>-0.750</td>\n",
              "      <td>-0.769231</td>\n",
              "      <td>-0.738095</td>\n",
              "    </tr>\n",
              "    <tr>\n",
              "      <th>4</th>\n",
              "      <td>0.0</td>\n",
              "      <td>-1.000000</td>\n",
              "      <td>-1.047238</td>\n",
              "      <td>0.315985</td>\n",
              "      <td>-0.5</td>\n",
              "      <td>0.0</td>\n",
              "      <td>0.0</td>\n",
              "      <td>0.0</td>\n",
              "      <td>0.0</td>\n",
              "      <td>-0.643028</td>\n",
              "      <td>0.0</td>\n",
              "      <td>-0.260870</td>\n",
              "      <td>0.0</td>\n",
              "      <td>-0.789883</td>\n",
              "      <td>-0.415842</td>\n",
              "      <td>-0.250792</td>\n",
              "      <td>0.351464</td>\n",
              "      <td>1.0</td>\n",
              "      <td>-1.0</td>\n",
              "      <td>1.0</td>\n",
              "      <td>1.50</td>\n",
              "      <td>0.75</td>\n",
              "      <td>1.625</td>\n",
              "      <td>1.666667</td>\n",
              "      <td>1.583333</td>\n",
              "    </tr>\n",
              "  </tbody>\n",
              "</table>\n",
              "</div>"
            ],
            "text/plain": [
              "    bedrooms  bathrooms  sqft_living  sqft_lot  floors  waterfront  view  \\\n",
              "id                                                                         \n",
              "0        0.0  -1.666667    -0.850896 -0.400570    -0.5         0.0   0.0   \n",
              "1       -1.0  -1.666667    -1.648340  0.353689    -0.5         0.0   0.0   \n",
              "2        0.0  -0.333333    -0.221959  0.077083    -0.5         0.0   0.0   \n",
              "3        0.0   0.000000    -0.186064 -0.147309     0.5         0.0   0.0   \n",
              "4        0.0  -1.000000    -1.047238  0.315985    -0.5         0.0   0.0   \n",
              "\n",
              "    condition  grade  sqft_above  sqft_basement  yr_built  yr_renovated  \\\n",
              "id                                                                        \n",
              "0         0.0    0.0   -0.464395            0.0 -0.434783           0.0   \n",
              "1         0.0   -1.0   -1.189913            0.0 -0.913043           0.0   \n",
              "2         0.0    1.0    0.107814            0.0  0.260870           0.0   \n",
              "3         0.0    0.0    0.140471            0.0  0.434783           0.0   \n",
              "4         0.0    0.0   -0.643028            0.0 -0.260870           0.0   \n",
              "\n",
              "         lat      long  sqft_living15  sqft_lot15  data_y  data_m  zipcode-3  \\\n",
              "id                                                                             \n",
              "0  -0.295233 -0.128713      -0.715791   -0.441200     0.0     0.8        1.0   \n",
              "1   0.807393 -0.009901       0.820922    0.083952     1.0    -0.8        0.0   \n",
              "2   0.218385  0.920792      -0.059753   -0.020678     1.0    -0.8        0.0   \n",
              "3  -1.275292 -0.475248       0.410026   -0.161039     0.0     0.0        0.0   \n",
              "4  -0.789883 -0.415842      -0.250792    0.351464     1.0    -1.0        1.0   \n",
              "\n",
              "    zipcode-4  zipcode-5  zipcode-34  zipcode-45  zipcode-35  \n",
              "id                                                            \n",
              "0        1.00       0.75       1.375    1.153846    1.345238  \n",
              "1       -0.25       0.75      -0.500   -0.128205   -0.440476  \n",
              "2        1.00      -0.25       0.125    1.051282    0.107143  \n",
              "3       -0.75      -0.50      -0.750   -0.769231   -0.738095  \n",
              "4        1.50       0.75       1.625    1.666667    1.583333  "
            ]
          },
          "metadata": {
            "tags": []
          },
          "execution_count": 87
        }
      ]
    },
    {
      "metadata": {
        "id": "bmJRjQh07PGL",
        "colab_type": "text"
      },
      "cell_type": "markdown",
      "source": [
        "## Normalizing Numerical Features"
      ]
    },
    {
      "metadata": {
        "id": "Ax0_GTj07Oe4",
        "colab_type": "code",
        "colab": {
          "base_uri": "https://localhost:8080/",
          "height": 53
        },
        "outputId": "c6f676c6-0a9a-4947-af8f-7fc7c36671e8"
      },
      "cell_type": "code",
      "source": [
        "for i in Skewed_train.columns:\n",
        "  colty = Skewed_train[i].dtype\n",
        "  if not colty == 'int64' and not colty == 'float64':\n",
        "    print(i.ljust(15),'column is a', str(Skewed_train[i].dtype).ljust(8), 'type')\n",
        "    \n",
        "Skewed_train.drop('pca1', axis=1, inplace=True)\n",
        "Skewed_train.drop('pca2', axis=1, inplace=True)\n"
      ],
      "execution_count": 61,
      "outputs": [
        {
          "output_type": "stream",
          "text": [
            "pca1            column is a object   type\n",
            "pca2            column is a object   type\n"
          ],
          "name": "stdout"
        }
      ]
    },
    {
      "metadata": {
        "id": "TQbtWwgA8CEU",
        "colab_type": "code",
        "colab": {}
      },
      "cell_type": "code",
      "source": [
        "def scaler_dummy(dataset,aaa):\n",
        "\n",
        "  scaler_mm = MinMaxScaler() \n",
        "  scaler_ma = MaxAbsScaler()\n",
        "  scaler_sd = StandardScaler()\n",
        "  scaler_rb = RobustScaler()\n",
        "\n",
        "  numerical = list(dataset.columns)\n",
        "  data_transform_mm = pd.DataFrame(data = dataset)\n",
        "  data_transform_ma = pd.DataFrame(data = dataset)\n",
        "  data_transform_sd = pd.DataFrame(data = dataset)\n",
        "  data_transform_rb = pd.DataFrame(data = dataset)\n",
        "\n",
        "\n",
        "  if aaa == 'train':    \n",
        "    scaler_mm.fit(dataset[numerical])\n",
        "    scaler_ma.fit(dataset[numerical])\n",
        "    scaler_sd.fit(dataset[numerical])\n",
        "    scaler_rb.fit(dataset[numerical])\n",
        "    print('fit only train')\n",
        "\n",
        "\n",
        "  data_transform_mm[numerical] = scaler_mm.transform(dataset[numerical])\n",
        "  data_transform_ma[numerical] = scaler_ma.transform(dataset[numerical])\n",
        "  data_transform_sd[numerical] = scaler_sd.transform(dataset[numerical])\n",
        "  data_transform_rb[numerical] = scaler_rb.transform(dataset[numerical])\n",
        "\n",
        "\n",
        "  ## get dummies\n",
        "\n",
        "  features_final_mm = pd.get_dummies(data_transform_mm)\n",
        "  features_final_ma = pd.get_dummies(data_transform_ma)\n",
        "  features_final_sd = pd.get_dummies(data_transform_sd)\n",
        "  features_final_rb = pd.get_dummies(data_transform_rb)\n",
        "\n",
        "  return features_final_mm, features_final_ma, features_final_sd, features_final_rb"
      ],
      "execution_count": 0,
      "outputs": []
    },
    {
      "metadata": {
        "id": "pvp9Fh5uBCpr",
        "colab_type": "code",
        "colab": {}
      },
      "cell_type": "code",
      "source": [
        "def scaler_dummy(dataset,aaa):\n",
        "\n",
        "  scaler_mm = MinMaxScaler() \n",
        "  scaler_ma = MaxAbsScaler()\n",
        "  scaler_sd = StandardScaler()\n",
        "  scaler_rb = RobustScaler()\n",
        "\n",
        "  numerical = list(dataset.columns)\n",
        "  data_transform_mm = pd.DataFrame(data = dataset)\n",
        "  data_transform_ma = pd.DataFrame(data = dataset)\n",
        "  data_transform_sd = pd.DataFrame(data = dataset)\n",
        "  data_transform_rb = pd.DataFrame(data = dataset)\n",
        "\n",
        "\n",
        "  if aaa == 'train':    \n",
        "    data_transform_mm[numerical] = scaler_mm.fit_transform(dataset[numerical])\n",
        "    data_transform_ma[numerical] = scaler_ma.fit_transform(dataset[numerical])\n",
        "    data_transform_sd[numerical] = scaler_sd.fit_transform(dataset[numerical])\n",
        "    data_transform_rb[numerical] = scaler_rb.fit_transform(dataset[numerical])\n",
        "#     scaler_mm.fit(dataset[numerical])\n",
        "#     scaler_ma.fit(dataset[numerical])\n",
        "#     scaler_sd.fit(dataset[numerical])\n",
        "#     scaler_rb.fit(dataset[numerical])\n",
        "    print('fit only train')\n",
        "\n",
        "\n",
        "  data_transform_mm[numerical] = scaler_mm.transform(dataset[numerical])\n",
        "  data_transform_ma[numerical] = scaler_ma.transform(dataset[numerical])\n",
        "  data_transform_sd[numerical] = scaler_sd.transform(dataset[numerical])\n",
        "  data_transform_rb[numerical] = scaler_rb.transform(dataset[numerical])\n",
        "\n",
        "\n",
        "  ## get dummies\n",
        "\n",
        "  features_final_mm = pd.get_dummies(data_transform_mm)\n",
        "  features_final_ma = pd.get_dummies(data_transform_ma)\n",
        "  features_final_sd = pd.get_dummies(data_transform_sd)\n",
        "  features_final_rb = pd.get_dummies(data_transform_rb)\n",
        "\n",
        "  return features_final_mm, features_final_ma, features_final_sd, features_final_rb"
      ],
      "execution_count": 0,
      "outputs": []
    },
    {
      "metadata": {
        "id": "J4JIbmCiGonR",
        "colab_type": "code",
        "colab": {}
      },
      "cell_type": "code",
      "source": [
        "scaler_sd = StandardScaler()\n",
        "numerical = list(Skewed_train.columns)\n",
        "scaler_sd_fitted = scaler_sd.fit_transform(Skewed_train[numerical])\n",
        "scaler_sd_fitted = pd.DataFrame(data = scaler_sd_fitted, columns=numerical)\n",
        "features_final_train = pd.get_dummies(scaler_sd_fitted)"
      ],
      "execution_count": 0,
      "outputs": []
    },
    {
      "metadata": {
        "id": "bewtBUDRIFQw",
        "colab_type": "code",
        "colab": {
          "base_uri": "https://localhost:8080/",
          "height": 241
        },
        "outputId": "214c23b4-26b7-4c6d-eb2e-1213115b5dfd"
      },
      "cell_type": "code",
      "source": [
        "features_final_train.head()"
      ],
      "execution_count": 99,
      "outputs": [
        {
          "output_type": "execute_result",
          "data": {
            "text/html": [
              "<div>\n",
              "<style scoped>\n",
              "    .dataframe tbody tr th:only-of-type {\n",
              "        vertical-align: middle;\n",
              "    }\n",
              "\n",
              "    .dataframe tbody tr th {\n",
              "        vertical-align: top;\n",
              "    }\n",
              "\n",
              "    .dataframe thead th {\n",
              "        text-align: right;\n",
              "    }\n",
              "</style>\n",
              "<table border=\"1\" class=\"dataframe\">\n",
              "  <thead>\n",
              "    <tr style=\"text-align: right;\">\n",
              "      <th></th>\n",
              "      <th>bedrooms</th>\n",
              "      <th>bathrooms</th>\n",
              "      <th>sqft_living</th>\n",
              "      <th>sqft_lot</th>\n",
              "      <th>floors</th>\n",
              "      <th>waterfront</th>\n",
              "      <th>view</th>\n",
              "      <th>condition</th>\n",
              "      <th>grade</th>\n",
              "      <th>sqft_above</th>\n",
              "      <th>sqft_basement</th>\n",
              "      <th>yr_built</th>\n",
              "      <th>yr_renovated</th>\n",
              "      <th>lat</th>\n",
              "      <th>long</th>\n",
              "      <th>sqft_living15</th>\n",
              "      <th>sqft_lot15</th>\n",
              "      <th>data_y</th>\n",
              "      <th>data_m</th>\n",
              "      <th>zipcode-3</th>\n",
              "      <th>zipcode-4</th>\n",
              "      <th>zipcode-5</th>\n",
              "      <th>zipcode-34</th>\n",
              "      <th>zipcode-45</th>\n",
              "      <th>zipcode-35</th>\n",
              "    </tr>\n",
              "  </thead>\n",
              "  <tbody>\n",
              "    <tr>\n",
              "      <th>0</th>\n",
              "      <td>-0.408931</td>\n",
              "      <td>-1.452865</td>\n",
              "      <td>-1.126725</td>\n",
              "      <td>-0.362680</td>\n",
              "      <td>-0.924917</td>\n",
              "      <td>-0.084662</td>\n",
              "      <td>-0.306875</td>\n",
              "      <td>-0.62902</td>\n",
              "      <td>-0.560048</td>\n",
              "      <td>-0.746515</td>\n",
              "      <td>-0.801427</td>\n",
              "      <td>-0.547510</td>\n",
              "      <td>-0.209296</td>\n",
              "      <td>-0.358430</td>\n",
              "      <td>-0.306626</td>\n",
              "      <td>-1.043136</td>\n",
              "      <td>-0.372462</td>\n",
              "      <td>-0.685449</td>\n",
              "      <td>1.100821</td>\n",
              "      <td>1.182501</td>\n",
              "      <td>1.521182</td>\n",
              "      <td>1.189758</td>\n",
              "      <td>1.845297</td>\n",
              "      <td>1.622299</td>\n",
              "      <td>1.875717</td>\n",
              "    </tr>\n",
              "    <tr>\n",
              "      <th>1</th>\n",
              "      <td>-1.516730</td>\n",
              "      <td>-1.452865</td>\n",
              "      <td>-2.212637</td>\n",
              "      <td>0.288743</td>\n",
              "      <td>-0.924917</td>\n",
              "      <td>-0.084662</td>\n",
              "      <td>-0.306875</td>\n",
              "      <td>-0.62902</td>\n",
              "      <td>-1.407676</td>\n",
              "      <td>-1.811291</td>\n",
              "      <td>-0.801427</td>\n",
              "      <td>-1.295641</td>\n",
              "      <td>-0.209296</td>\n",
              "      <td>1.282425</td>\n",
              "      <td>-0.136763</td>\n",
              "      <td>1.112308</td>\n",
              "      <td>0.081855</td>\n",
              "      <td>1.458897</td>\n",
              "      <td>-1.474635</td>\n",
              "      <td>-0.845665</td>\n",
              "      <td>-0.446315</td>\n",
              "      <td>1.189758</td>\n",
              "      <td>-1.009381</td>\n",
              "      <td>-0.324570</td>\n",
              "      <td>-0.938751</td>\n",
              "    </tr>\n",
              "    <tr>\n",
              "      <th>2</th>\n",
              "      <td>-0.408931</td>\n",
              "      <td>-0.149923</td>\n",
              "      <td>-0.270276</td>\n",
              "      <td>0.049849</td>\n",
              "      <td>-0.924917</td>\n",
              "      <td>-0.084662</td>\n",
              "      <td>-0.306875</td>\n",
              "      <td>-0.62902</td>\n",
              "      <td>0.287579</td>\n",
              "      <td>0.093264</td>\n",
              "      <td>-0.801427</td>\n",
              "      <td>0.540680</td>\n",
              "      <td>-0.209296</td>\n",
              "      <td>0.405903</td>\n",
              "      <td>1.193836</td>\n",
              "      <td>-0.122956</td>\n",
              "      <td>-0.008661</td>\n",
              "      <td>1.458897</td>\n",
              "      <td>-1.474635</td>\n",
              "      <td>-0.845665</td>\n",
              "      <td>1.521182</td>\n",
              "      <td>-0.393147</td>\n",
              "      <td>-0.057821</td>\n",
              "      <td>1.466550</td>\n",
              "      <td>-0.075648</td>\n",
              "    </tr>\n",
              "    <tr>\n",
              "      <th>3</th>\n",
              "      <td>-0.408931</td>\n",
              "      <td>0.175813</td>\n",
              "      <td>-0.221398</td>\n",
              "      <td>-0.143949</td>\n",
              "      <td>0.932080</td>\n",
              "      <td>-0.084662</td>\n",
              "      <td>-0.306875</td>\n",
              "      <td>-0.62902</td>\n",
              "      <td>-0.560048</td>\n",
              "      <td>0.141191</td>\n",
              "      <td>-0.801427</td>\n",
              "      <td>0.812727</td>\n",
              "      <td>-0.209296</td>\n",
              "      <td>-1.816888</td>\n",
              "      <td>-0.802062</td>\n",
              "      <td>0.535971</td>\n",
              "      <td>-0.130090</td>\n",
              "      <td>-0.685449</td>\n",
              "      <td>-0.186907</td>\n",
              "      <td>-0.845665</td>\n",
              "      <td>-1.233314</td>\n",
              "      <td>-0.788873</td>\n",
              "      <td>-1.390004</td>\n",
              "      <td>-1.298004</td>\n",
              "      <td>-1.407829</td>\n",
              "    </tr>\n",
              "    <tr>\n",
              "      <th>4</th>\n",
              "      <td>-0.408931</td>\n",
              "      <td>-0.801394</td>\n",
              "      <td>-1.394092</td>\n",
              "      <td>0.256179</td>\n",
              "      <td>-0.924917</td>\n",
              "      <td>-0.084662</td>\n",
              "      <td>-0.306875</td>\n",
              "      <td>-0.62902</td>\n",
              "      <td>-0.560048</td>\n",
              "      <td>-1.008678</td>\n",
              "      <td>-0.801427</td>\n",
              "      <td>-0.275463</td>\n",
              "      <td>-0.209296</td>\n",
              "      <td>-1.094536</td>\n",
              "      <td>-0.717130</td>\n",
              "      <td>-0.390913</td>\n",
              "      <td>0.313284</td>\n",
              "      <td>1.458897</td>\n",
              "      <td>-1.796567</td>\n",
              "      <td>1.182501</td>\n",
              "      <td>2.308181</td>\n",
              "      <td>1.189758</td>\n",
              "      <td>2.225921</td>\n",
              "      <td>2.401047</td>\n",
              "      <td>2.250979</td>\n",
              "    </tr>\n",
              "  </tbody>\n",
              "</table>\n",
              "</div>"
            ],
            "text/plain": [
              "   bedrooms  bathrooms  sqft_living  sqft_lot    floors  waterfront      view  \\\n",
              "0 -0.408931  -1.452865    -1.126725 -0.362680 -0.924917   -0.084662 -0.306875   \n",
              "1 -1.516730  -1.452865    -2.212637  0.288743 -0.924917   -0.084662 -0.306875   \n",
              "2 -0.408931  -0.149923    -0.270276  0.049849 -0.924917   -0.084662 -0.306875   \n",
              "3 -0.408931   0.175813    -0.221398 -0.143949  0.932080   -0.084662 -0.306875   \n",
              "4 -0.408931  -0.801394    -1.394092  0.256179 -0.924917   -0.084662 -0.306875   \n",
              "\n",
              "   condition     grade  sqft_above  sqft_basement  yr_built  yr_renovated  \\\n",
              "0   -0.62902 -0.560048   -0.746515      -0.801427 -0.547510     -0.209296   \n",
              "1   -0.62902 -1.407676   -1.811291      -0.801427 -1.295641     -0.209296   \n",
              "2   -0.62902  0.287579    0.093264      -0.801427  0.540680     -0.209296   \n",
              "3   -0.62902 -0.560048    0.141191      -0.801427  0.812727     -0.209296   \n",
              "4   -0.62902 -0.560048   -1.008678      -0.801427 -0.275463     -0.209296   \n",
              "\n",
              "        lat      long  sqft_living15  sqft_lot15    data_y    data_m  \\\n",
              "0 -0.358430 -0.306626      -1.043136   -0.372462 -0.685449  1.100821   \n",
              "1  1.282425 -0.136763       1.112308    0.081855  1.458897 -1.474635   \n",
              "2  0.405903  1.193836      -0.122956   -0.008661  1.458897 -1.474635   \n",
              "3 -1.816888 -0.802062       0.535971   -0.130090 -0.685449 -0.186907   \n",
              "4 -1.094536 -0.717130      -0.390913    0.313284  1.458897 -1.796567   \n",
              "\n",
              "   zipcode-3  zipcode-4  zipcode-5  zipcode-34  zipcode-45  zipcode-35  \n",
              "0   1.182501   1.521182   1.189758    1.845297    1.622299    1.875717  \n",
              "1  -0.845665  -0.446315   1.189758   -1.009381   -0.324570   -0.938751  \n",
              "2  -0.845665   1.521182  -0.393147   -0.057821    1.466550   -0.075648  \n",
              "3  -0.845665  -1.233314  -0.788873   -1.390004   -1.298004   -1.407829  \n",
              "4   1.182501   2.308181   1.189758    2.225921    2.401047    2.250979  "
            ]
          },
          "metadata": {
            "tags": []
          },
          "execution_count": 99
        }
      ]
    },
    {
      "metadata": {
        "id": "OK97eT2CF7vL",
        "colab_type": "code",
        "colab": {}
      },
      "cell_type": "code",
      "source": [
        "scaler_sd_fitted_test = scaler_sd.transform(Skewed_test[numerical])\n",
        "scaler_sd_fitted_test = pd.DataFrame(data = scaler_sd_fitted_test,columns=numerical)\n",
        "features_final_test = pd.get_dummies(scaler_sd_fitted_test)"
      ],
      "execution_count": 0,
      "outputs": []
    },
    {
      "metadata": {
        "id": "0c-MCHO-SqxG",
        "colab_type": "code",
        "colab": {
          "base_uri": "https://localhost:8080/",
          "height": 35
        },
        "outputId": "1f9f338c-4a5c-458f-edde-ac88de1969fd"
      },
      "cell_type": "code",
      "source": [
        "features_final_test.shape"
      ],
      "execution_count": 139,
      "outputs": [
        {
          "output_type": "execute_result",
          "data": {
            "text/plain": [
              "(6468, 25)"
            ]
          },
          "metadata": {
            "tags": []
          },
          "execution_count": 139
        }
      ]
    },
    {
      "metadata": {
        "id": "V3Z-A3RuF_mC",
        "colab_type": "text"
      },
      "cell_type": "markdown",
      "source": [
        "## Feature Scaling - PCA"
      ]
    },
    {
      "metadata": {
        "id": "3VmOPpHDGhEx",
        "colab_type": "code",
        "colab": {}
      },
      "cell_type": "code",
      "source": [
        "# def ppccaa(dataset, aaa):\n",
        "# #   dataset['pca1']= ''\n",
        "# #   dataset['pca2']= ''\n",
        "  \n",
        "#   if aaa == 'train':\n",
        "#     pca = PCA(n_components=2)\n",
        "#     pca.fit(dataset)\n",
        "#     print('fit only train')  \n",
        "#   principalComponents_updated = pca.transform(dataset)\n",
        "\n",
        "\n",
        "#   dataset['pca1']= principalComponents_updated[:, 0]\n",
        "#   dataset['pca2']= principalComponents_updated[:, 1]\n",
        "      \n",
        "#   return dataset\n",
        "\n",
        "# cleaned_pca_train = ppccaa(cleaned_train, 'train')\n",
        "# cleaned_pca_test = ppccaa(cleaned_test, 'test')"
      ],
      "execution_count": 0,
      "outputs": []
    },
    {
      "metadata": {
        "id": "9ROUWktOLGCD",
        "colab_type": "code",
        "colab": {}
      },
      "cell_type": "code",
      "source": [
        "features_final_train.drop('pca1', axis=1, inplace=True)\n",
        "features_final_train.drop('pca2', axis=1, inplace=True)\n",
        "\n",
        "for i in features_final_train.columns:\n",
        "  colty = features_final_train[i].dtype\n",
        "  if not colty == 'int64' and not colty == 'float64':\n",
        "    print(i.ljust(15),'column is a', str(features_final_train[i].dtype).ljust(8), 'type')"
      ],
      "execution_count": 0,
      "outputs": []
    },
    {
      "metadata": {
        "id": "20IfVDaZKaBF",
        "colab_type": "code",
        "colab": {}
      },
      "cell_type": "code",
      "source": [
        "# Skewed_train.drop('pca1', axis=1, inplace=True)\n",
        "# Skewed_train.drop('pca2', axis=1, inplace=True)\n",
        "\n",
        "pca = PCA(n_components=2)\n",
        "principalComponents_updated = pca.fit_transform(features_final_train)\n",
        "\n",
        "features_final_train['pca1']= ''\n",
        "features_final_train['pca2']= ''\n",
        "features_final_train['pca1']= principalComponents_updated[:, 0]\n",
        "features_final_train['pca2']= principalComponents_updated[:, 1]"
      ],
      "execution_count": 0,
      "outputs": []
    },
    {
      "metadata": {
        "id": "znBPIStfKfYY",
        "colab_type": "code",
        "colab": {
          "base_uri": "https://localhost:8080/",
          "height": 241
        },
        "outputId": "6beac2da-98a2-4004-bc33-4c053006f856"
      },
      "cell_type": "code",
      "source": [
        "features_final_train.head()"
      ],
      "execution_count": 114,
      "outputs": [
        {
          "output_type": "execute_result",
          "data": {
            "text/html": [
              "<div>\n",
              "<style scoped>\n",
              "    .dataframe tbody tr th:only-of-type {\n",
              "        vertical-align: middle;\n",
              "    }\n",
              "\n",
              "    .dataframe tbody tr th {\n",
              "        vertical-align: top;\n",
              "    }\n",
              "\n",
              "    .dataframe thead th {\n",
              "        text-align: right;\n",
              "    }\n",
              "</style>\n",
              "<table border=\"1\" class=\"dataframe\">\n",
              "  <thead>\n",
              "    <tr style=\"text-align: right;\">\n",
              "      <th></th>\n",
              "      <th>bedrooms</th>\n",
              "      <th>bathrooms</th>\n",
              "      <th>sqft_living</th>\n",
              "      <th>sqft_lot</th>\n",
              "      <th>floors</th>\n",
              "      <th>waterfront</th>\n",
              "      <th>view</th>\n",
              "      <th>condition</th>\n",
              "      <th>grade</th>\n",
              "      <th>sqft_above</th>\n",
              "      <th>sqft_basement</th>\n",
              "      <th>yr_built</th>\n",
              "      <th>yr_renovated</th>\n",
              "      <th>lat</th>\n",
              "      <th>long</th>\n",
              "      <th>sqft_living15</th>\n",
              "      <th>sqft_lot15</th>\n",
              "      <th>data_y</th>\n",
              "      <th>data_m</th>\n",
              "      <th>zipcode-3</th>\n",
              "      <th>zipcode-4</th>\n",
              "      <th>zipcode-5</th>\n",
              "      <th>zipcode-34</th>\n",
              "      <th>zipcode-45</th>\n",
              "      <th>zipcode-35</th>\n",
              "      <th>pca1</th>\n",
              "      <th>pca2</th>\n",
              "    </tr>\n",
              "  </thead>\n",
              "  <tbody>\n",
              "    <tr>\n",
              "      <th>0</th>\n",
              "      <td>-0.408931</td>\n",
              "      <td>-1.452865</td>\n",
              "      <td>-1.126725</td>\n",
              "      <td>-0.362680</td>\n",
              "      <td>-0.924917</td>\n",
              "      <td>-0.084662</td>\n",
              "      <td>-0.306875</td>\n",
              "      <td>-0.62902</td>\n",
              "      <td>-0.560048</td>\n",
              "      <td>-0.746515</td>\n",
              "      <td>-0.801427</td>\n",
              "      <td>-0.547510</td>\n",
              "      <td>-0.209296</td>\n",
              "      <td>-0.358430</td>\n",
              "      <td>-0.306626</td>\n",
              "      <td>-1.043136</td>\n",
              "      <td>-0.372462</td>\n",
              "      <td>-0.685449</td>\n",
              "      <td>1.100821</td>\n",
              "      <td>1.182501</td>\n",
              "      <td>1.521182</td>\n",
              "      <td>1.189758</td>\n",
              "      <td>1.845297</td>\n",
              "      <td>1.622299</td>\n",
              "      <td>1.875717</td>\n",
              "      <td>-3.264087</td>\n",
              "      <td>1.541078</td>\n",
              "    </tr>\n",
              "    <tr>\n",
              "      <th>1</th>\n",
              "      <td>-1.516730</td>\n",
              "      <td>-1.452865</td>\n",
              "      <td>-2.212637</td>\n",
              "      <td>0.288743</td>\n",
              "      <td>-0.924917</td>\n",
              "      <td>-0.084662</td>\n",
              "      <td>-0.306875</td>\n",
              "      <td>-0.62902</td>\n",
              "      <td>-1.407676</td>\n",
              "      <td>-1.811291</td>\n",
              "      <td>-0.801427</td>\n",
              "      <td>-1.295641</td>\n",
              "      <td>-0.209296</td>\n",
              "      <td>1.282425</td>\n",
              "      <td>-0.136763</td>\n",
              "      <td>1.112308</td>\n",
              "      <td>0.081855</td>\n",
              "      <td>1.458897</td>\n",
              "      <td>-1.474635</td>\n",
              "      <td>-0.845665</td>\n",
              "      <td>-0.446315</td>\n",
              "      <td>1.189758</td>\n",
              "      <td>-1.009381</td>\n",
              "      <td>-0.324570</td>\n",
              "      <td>-0.938751</td>\n",
              "      <td>-2.029374</td>\n",
              "      <td>-2.678414</td>\n",
              "    </tr>\n",
              "    <tr>\n",
              "      <th>2</th>\n",
              "      <td>-0.408931</td>\n",
              "      <td>-0.149923</td>\n",
              "      <td>-0.270276</td>\n",
              "      <td>0.049849</td>\n",
              "      <td>-0.924917</td>\n",
              "      <td>-0.084662</td>\n",
              "      <td>-0.306875</td>\n",
              "      <td>-0.62902</td>\n",
              "      <td>0.287579</td>\n",
              "      <td>0.093264</td>\n",
              "      <td>-0.801427</td>\n",
              "      <td>0.540680</td>\n",
              "      <td>-0.209296</td>\n",
              "      <td>0.405903</td>\n",
              "      <td>1.193836</td>\n",
              "      <td>-0.122956</td>\n",
              "      <td>-0.008661</td>\n",
              "      <td>1.458897</td>\n",
              "      <td>-1.474635</td>\n",
              "      <td>-0.845665</td>\n",
              "      <td>1.521182</td>\n",
              "      <td>-0.393147</td>\n",
              "      <td>-0.057821</td>\n",
              "      <td>1.466550</td>\n",
              "      <td>-0.075648</td>\n",
              "      <td>0.615950</td>\n",
              "      <td>-0.302400</td>\n",
              "    </tr>\n",
              "    <tr>\n",
              "      <th>3</th>\n",
              "      <td>-0.408931</td>\n",
              "      <td>0.175813</td>\n",
              "      <td>-0.221398</td>\n",
              "      <td>-0.143949</td>\n",
              "      <td>0.932080</td>\n",
              "      <td>-0.084662</td>\n",
              "      <td>-0.306875</td>\n",
              "      <td>-0.62902</td>\n",
              "      <td>-0.560048</td>\n",
              "      <td>0.141191</td>\n",
              "      <td>-0.801427</td>\n",
              "      <td>0.812727</td>\n",
              "      <td>-0.209296</td>\n",
              "      <td>-1.816888</td>\n",
              "      <td>-0.802062</td>\n",
              "      <td>0.535971</td>\n",
              "      <td>-0.130090</td>\n",
              "      <td>-0.685449</td>\n",
              "      <td>-0.186907</td>\n",
              "      <td>-0.845665</td>\n",
              "      <td>-1.233314</td>\n",
              "      <td>-0.788873</td>\n",
              "      <td>-1.390004</td>\n",
              "      <td>-1.298004</td>\n",
              "      <td>-1.407829</td>\n",
              "      <td>1.079230</td>\n",
              "      <td>-2.358063</td>\n",
              "    </tr>\n",
              "    <tr>\n",
              "      <th>4</th>\n",
              "      <td>-0.408931</td>\n",
              "      <td>-0.801394</td>\n",
              "      <td>-1.394092</td>\n",
              "      <td>0.256179</td>\n",
              "      <td>-0.924917</td>\n",
              "      <td>-0.084662</td>\n",
              "      <td>-0.306875</td>\n",
              "      <td>-0.62902</td>\n",
              "      <td>-0.560048</td>\n",
              "      <td>-1.008678</td>\n",
              "      <td>-0.801427</td>\n",
              "      <td>-0.275463</td>\n",
              "      <td>-0.209296</td>\n",
              "      <td>-1.094536</td>\n",
              "      <td>-0.717130</td>\n",
              "      <td>-0.390913</td>\n",
              "      <td>0.313284</td>\n",
              "      <td>1.458897</td>\n",
              "      <td>-1.796567</td>\n",
              "      <td>1.182501</td>\n",
              "      <td>2.308181</td>\n",
              "      <td>1.189758</td>\n",
              "      <td>2.225921</td>\n",
              "      <td>2.401047</td>\n",
              "      <td>2.250979</td>\n",
              "      <td>-2.906851</td>\n",
              "      <td>2.111070</td>\n",
              "    </tr>\n",
              "  </tbody>\n",
              "</table>\n",
              "</div>"
            ],
            "text/plain": [
              "   bedrooms  bathrooms  sqft_living  sqft_lot    floors  waterfront      view  \\\n",
              "0 -0.408931  -1.452865    -1.126725 -0.362680 -0.924917   -0.084662 -0.306875   \n",
              "1 -1.516730  -1.452865    -2.212637  0.288743 -0.924917   -0.084662 -0.306875   \n",
              "2 -0.408931  -0.149923    -0.270276  0.049849 -0.924917   -0.084662 -0.306875   \n",
              "3 -0.408931   0.175813    -0.221398 -0.143949  0.932080   -0.084662 -0.306875   \n",
              "4 -0.408931  -0.801394    -1.394092  0.256179 -0.924917   -0.084662 -0.306875   \n",
              "\n",
              "   condition     grade  sqft_above  sqft_basement  yr_built  yr_renovated  \\\n",
              "0   -0.62902 -0.560048   -0.746515      -0.801427 -0.547510     -0.209296   \n",
              "1   -0.62902 -1.407676   -1.811291      -0.801427 -1.295641     -0.209296   \n",
              "2   -0.62902  0.287579    0.093264      -0.801427  0.540680     -0.209296   \n",
              "3   -0.62902 -0.560048    0.141191      -0.801427  0.812727     -0.209296   \n",
              "4   -0.62902 -0.560048   -1.008678      -0.801427 -0.275463     -0.209296   \n",
              "\n",
              "        lat      long  sqft_living15  sqft_lot15    data_y    data_m  \\\n",
              "0 -0.358430 -0.306626      -1.043136   -0.372462 -0.685449  1.100821   \n",
              "1  1.282425 -0.136763       1.112308    0.081855  1.458897 -1.474635   \n",
              "2  0.405903  1.193836      -0.122956   -0.008661  1.458897 -1.474635   \n",
              "3 -1.816888 -0.802062       0.535971   -0.130090 -0.685449 -0.186907   \n",
              "4 -1.094536 -0.717130      -0.390913    0.313284  1.458897 -1.796567   \n",
              "\n",
              "   zipcode-3  zipcode-4  zipcode-5  zipcode-34  zipcode-45  zipcode-35  \\\n",
              "0   1.182501   1.521182   1.189758    1.845297    1.622299    1.875717   \n",
              "1  -0.845665  -0.446315   1.189758   -1.009381   -0.324570   -0.938751   \n",
              "2  -0.845665   1.521182  -0.393147   -0.057821    1.466550   -0.075648   \n",
              "3  -0.845665  -1.233314  -0.788873   -1.390004   -1.298004   -1.407829   \n",
              "4   1.182501   2.308181   1.189758    2.225921    2.401047    2.250979   \n",
              "\n",
              "       pca1      pca2  \n",
              "0 -3.264087  1.541078  \n",
              "1 -2.029374 -2.678414  \n",
              "2  0.615950 -0.302400  \n",
              "3  1.079230 -2.358063  \n",
              "4 -2.906851  2.111070  "
            ]
          },
          "metadata": {
            "tags": []
          },
          "execution_count": 114
        }
      ]
    },
    {
      "metadata": {
        "id": "sk66NitaKfVD",
        "colab_type": "code",
        "colab": {}
      },
      "cell_type": "code",
      "source": [
        "principalComponents_updated_test = pca.transform(features_final_test)\n",
        "\n",
        "features_final_test['pca1']= ''\n",
        "features_final_test['pca2']= ''\n",
        "features_final_test['pca1']= principalComponents_updated_test[:, 0]\n",
        "features_final_test['pca2']= principalComponents_updated_test[:, 1]"
      ],
      "execution_count": 0,
      "outputs": []
    },
    {
      "metadata": {
        "id": "nutGAiHYSSt4",
        "colab_type": "code",
        "colab": {
          "base_uri": "https://localhost:8080/",
          "height": 35
        },
        "outputId": "00fa9b3d-b61c-44d5-8972-2c021aeb0b48"
      },
      "cell_type": "code",
      "source": [
        "features_final_test.shape"
      ],
      "execution_count": 141,
      "outputs": [
        {
          "output_type": "execute_result",
          "data": {
            "text/plain": [
              "(6468, 27)"
            ]
          },
          "metadata": {
            "tags": []
          },
          "execution_count": 141
        }
      ]
    },
    {
      "metadata": {
        "id": "YfLLz4R4-pLI",
        "colab_type": "text"
      },
      "cell_type": "markdown",
      "source": [
        "# Exploratory Data Analysis"
      ]
    },
    {
      "metadata": {
        "id": "mkzagXH9Nt9C",
        "colab_type": "code",
        "colab": {}
      },
      "cell_type": "code",
      "source": [
        "# X_train, X_test, y_train, y_test = train_test_split(sd, price_raw, test_size = 0.1, random_state=RANDOM_SEED)\n",
        "# price_raw_log = np.log1p(price_raw)\n",
        "\n",
        "df_train_target = np.log1p(price_raw)\n",
        "df_train_features = features_final_train"
      ],
      "execution_count": 0,
      "outputs": []
    },
    {
      "metadata": {
        "id": "A7rOh-q6NeOf",
        "colab_type": "code",
        "colab": {}
      },
      "cell_type": "code",
      "source": [
        "def print_best_params(model, params):\n",
        "    grid_model = GridSearchCV(\n",
        "        model, \n",
        "        param_grid = params,\n",
        "        cv=5,\n",
        "        scoring='neg_mean_squared_error')\n",
        "\n",
        "    grid_model.fit(df_train_features, df_train_target)\n",
        "    #     grid_model.fit(X_train, y_train)\n",
        "    rmse = np.sqrt(-1*grid_model.best_score_)\n",
        "    print(\n",
        "        '{0} 5 CV 시 최적 평균 RMSE 값 {1}, 최적 alpha:{2}'.format(model.__class__.__name__, np.round(rmse, 4), grid_model.best_params_))\n",
        "    return grid_model.best_estimator_"
      ],
      "execution_count": 0,
      "outputs": []
    },
    {
      "metadata": {
        "id": "rVZPrPJgg2-o",
        "colab_type": "text"
      },
      "cell_type": "markdown",
      "source": [
        "## LightGBM"
      ]
    },
    {
      "metadata": {
        "id": "xSAdhUoFeucw",
        "colab_type": "code",
        "colab": {}
      },
      "cell_type": "code",
      "source": [
        "lgb_params6 = {'num_leaves': [10],\n",
        "         'min_data_in_leaf': [10], \n",
        "         'objective':['regression'],\n",
        "         'max_depth': [-1],\n",
        "         'learning_rate': [0.05],\n",
        "         \"min_child_samples\": [10],\n",
        "         \"boosting\": [\"gbdt\"],\n",
        "         \"feature_fraction\": [0.9],\n",
        "         \"bagging_freq\": [1],\n",
        "         \"bagging_fraction\": [0.9] ,\n",
        "         \"bagging_seed\": [11],\n",
        "         \"metric\": ['rmse'],\n",
        "         \"lambda_l1\": [0.1],\n",
        "         \"verbosity\": [-1],\n",
        "         \"nthread\": [4],\n",
        "         'n_estimators':[5000],\n",
        "             'max_bin' : [100],\n",
        "         'refit':[True], \n",
        "    'tree_method':['gpu_hist'],\n",
        "    'predictor':['gpu_predictor'],\n",
        "         \"random_state\": [RANDOM_SEED]}"
      ],
      "execution_count": 0,
      "outputs": []
    },
    {
      "metadata": {
        "id": "NOi3CSXSeueu",
        "colab_type": "code",
        "outputId": "fee4707e-f1d5-47e8-f1b4-ccbc035047bd",
        "colab": {
          "base_uri": "https://localhost:8080/",
          "height": 55
        }
      },
      "cell_type": "code",
      "source": [
        "lgb_model = lgb.LGBMRegressor()\n",
        "lgb_estimator = print_best_params(lgb_model, lgb_params6)"
      ],
      "execution_count": 123,
      "outputs": [
        {
          "output_type": "stream",
          "text": [
            "LGBMRegressor 5 CV 시 최적 평균 RMSE 값 0.1608, 최적 alpha:{'bagging_fraction': 0.9, 'bagging_freq': 1, 'bagging_seed': 11, 'boosting': 'gbdt', 'feature_fraction': 0.9, 'lambda_l1': 0.1, 'learning_rate': 0.05, 'max_bin': 100, 'max_depth': -1, 'metric': 'rmse', 'min_child_samples': 10, 'min_data_in_leaf': 10, 'n_estimators': 5000, 'nthread': 4, 'num_leaves': 10, 'objective': 'regression', 'predictor': 'gpu_predictor', 'random_state': 631, 'refit': True, 'tree_method': 'gpu_hist', 'verbosity': -1}\n"
          ],
          "name": "stdout"
        }
      ]
    },
    {
      "metadata": {
        "id": "EroyVlOzNjt7",
        "colab_type": "code",
        "outputId": "5abd78d2-97e6-4359-ae08-2d06537c40c3",
        "colab": {
          "base_uri": "https://localhost:8080/",
          "height": 215
        }
      },
      "cell_type": "code",
      "source": [
        "lgb_estimator"
      ],
      "execution_count": 124,
      "outputs": [
        {
          "output_type": "execute_result",
          "data": {
            "text/plain": [
              "LGBMRegressor(bagging_fraction=0.9, bagging_freq=1, bagging_seed=11,\n",
              "       boosting='gbdt', boosting_type='gbdt', class_weight=None,\n",
              "       colsample_bytree=1.0, feature_fraction=0.9, importance_type='split',\n",
              "       lambda_l1=0.1, learning_rate=0.05, max_bin=100, max_depth=-1,\n",
              "       metric='rmse', min_child_samples=10, min_child_weight=0.001,\n",
              "       min_data_in_leaf=10, min_split_gain=0.0, n_estimators=5000,\n",
              "       n_jobs=-1, nthread=4, num_leaves=10, objective='regression',\n",
              "       predictor='gpu_predictor', random_state=631, refit=True,\n",
              "       reg_alpha=0.0, reg_lambda=0.0, silent=True, subsample=1.0,\n",
              "       subsample_for_bin=200000, subsample_freq=0, tree_method='gpu_hist',\n",
              "       verbosity=-1)"
            ]
          },
          "metadata": {
            "tags": []
          },
          "execution_count": 124
        }
      ]
    },
    {
      "metadata": {
        "id": "LemhC9cMhqgx",
        "colab_type": "text"
      },
      "cell_type": "markdown",
      "source": [
        "## xgboost "
      ]
    },
    {
      "metadata": {
        "id": "67OpcMX6U2Yo",
        "colab_type": "code",
        "outputId": "05825afe-73db-4c11-8330-9e8702d77ce2",
        "colab": {
          "base_uri": "https://localhost:8080/",
          "height": 55
        }
      },
      "cell_type": "code",
      "source": [
        "xgb_params_add1 ={\n",
        "    'seed': [RANDOM_SEED],\n",
        "    'learning_rate': [0.05],\n",
        "    'max_depth': [5],\n",
        "    'subsample': [0.9],\n",
        "    'colsample_bytree': [0.4],\n",
        "    'silent': [True],\n",
        "    'gpu_id':[0] ,         \n",
        "    'tree_method':['gpu_hist'],\n",
        "    'predictor':['gpu_predictor'],\n",
        "    'n_estimators':[5000],\n",
        "    'refit' : [True]\n",
        "}\n",
        "xgb_model = xgb.XGBRegressor() \n",
        "\n",
        "xgb_estimator = print_best_params(xgb_model, xgb_params_add1)\n",
        "\n"
      ],
      "execution_count": 125,
      "outputs": [
        {
          "output_type": "stream",
          "text": [
            "XGBRegressor 5 CV 시 최적 평균 RMSE 값 0.1618, 최적 alpha:{'colsample_bytree': 0.4, 'gpu_id': 0, 'learning_rate': 0.05, 'max_depth': 5, 'n_estimators': 5000, 'predictor': 'gpu_predictor', 'refit': True, 'seed': 631, 'silent': True, 'subsample': 0.9, 'tree_method': 'gpu_hist'}\n"
          ],
          "name": "stdout"
        }
      ]
    },
    {
      "metadata": {
        "id": "BapN7RHHYa91",
        "colab_type": "code",
        "outputId": "f3e77449-40f2-49c3-973e-168d25be02f2",
        "colab": {
          "base_uri": "https://localhost:8080/",
          "height": 161
        }
      },
      "cell_type": "code",
      "source": [
        "xgb_estimator"
      ],
      "execution_count": 126,
      "outputs": [
        {
          "output_type": "execute_result",
          "data": {
            "text/plain": [
              "XGBRegressor(base_score=0.5, booster='gbtree', colsample_bylevel=1,\n",
              "       colsample_bytree=0.4, gamma=0, gpu_id=0, importance_type='gain',\n",
              "       learning_rate=0.05, max_delta_step=0, max_depth=5,\n",
              "       min_child_weight=1, missing=None, n_estimators=5000, n_jobs=1,\n",
              "       nthread=None, objective='reg:linear', predictor='gpu_predictor',\n",
              "       random_state=0, refit=True, reg_alpha=0, reg_lambda=1,\n",
              "       scale_pos_weight=1, seed=631, silent=True, subsample=0.9,\n",
              "       tree_method='gpu_hist')"
            ]
          },
          "metadata": {
            "tags": []
          },
          "execution_count": 126
        }
      ]
    },
    {
      "metadata": {
        "id": "Oprypdq7QvOJ",
        "colab_type": "text"
      },
      "cell_type": "markdown",
      "source": [
        "# ensemble"
      ]
    },
    {
      "metadata": {
        "id": "CSeW8BRtZTDs",
        "colab_type": "code",
        "colab": {}
      },
      "cell_type": "code",
      "source": [
        "xgb_preds = xgb_estimator.predict(features_final_test)\n",
        "lgb_preds = lgb_estimator.predict(features_final_test)\n",
        "preds = 0.5* xgb_preds + 0.5*lgb_preds"
      ],
      "execution_count": 0,
      "outputs": []
    },
    {
      "metadata": {
        "id": "L1VOEibRRR3f",
        "colab_type": "code",
        "colab": {
          "base_uri": "https://localhost:8080/",
          "height": 35
        },
        "outputId": "ddba5f08-6659-4c92-e40a-f03c334d27b0"
      },
      "cell_type": "code",
      "source": [
        "preds_last = np.exp(preds)\n",
        "preds_last.shape"
      ],
      "execution_count": 143,
      "outputs": [
        {
          "output_type": "execute_result",
          "data": {
            "text/plain": [
              "(6468,)"
            ]
          },
          "metadata": {
            "tags": []
          },
          "execution_count": 143
        }
      ]
    },
    {
      "metadata": {
        "id": "w9clJNPfTFeP",
        "colab_type": "code",
        "colab": {}
      },
      "cell_type": "code",
      "source": [
        "submission = pd.read_csv(\"./gdrive/My Drive/!DataSets/2019-2nd-ml-month-with-kakr/sample_submission.csv\")\n",
        "submission['price']= preds_last\n",
        "submission.to_csv('sub04_xgb_lgbm.csv',index=False)"
      ],
      "execution_count": 0,
      "outputs": []
    },
    {
      "metadata": {
        "id": "Vq3AUwGFUxOy",
        "colab_type": "text"
      },
      "cell_type": "markdown",
      "source": [
        "# 미정리"
      ]
    },
    {
      "metadata": {
        "id": "EmYMz87PSHiP",
        "colab_type": "code",
        "colab": {
          "base_uri": "https://localhost:8080/",
          "height": 35
        },
        "outputId": "b1f3398a-6991-40ba-fa47-eff2c7108d08"
      },
      "cell_type": "code",
      "source": [
        "features_final_test.shape"
      ],
      "execution_count": 135,
      "outputs": [
        {
          "output_type": "execute_result",
          "data": {
            "text/plain": [
              "(15035, 27)"
            ]
          },
          "metadata": {
            "tags": []
          },
          "execution_count": 135
        }
      ]
    },
    {
      "metadata": {
        "id": "6xKAiSESht3h",
        "colab_type": "code",
        "colab": {}
      },
      "cell_type": "code",
      "source": [
        "def rmse_exp(predictions, dmat):\n",
        "    labels = dmat.get_label()\n",
        "    error = np.expm1(predictions) - np.expm1(labels)\n",
        "    squared_error = np.square(error)\n",
        "    mean = np.mean(squared_error)\n",
        "    return ('rmse_exp', np.sqrt(mean))"
      ],
      "execution_count": 0,
      "outputs": []
    },
    {
      "metadata": {
        "id": "UHPh_g7Rht5r",
        "colab_type": "code",
        "colab": {}
      },
      "cell_type": "code",
      "source": [
        "xgb_params = {\n",
        "    'eta': 0.02,\n",
        "    'max_depth': 6,\n",
        "    'subsample': 0.8,\n",
        "    'colsample_bytree': 0.4,\n",
        "#     'tree_method': 'gpu_hist',    # 최적화된 분할 지점을 찾기 위한 algorithm 설정 + 캐글의 GPU 사용\n",
        "#     'predictor': 'gpu_predictor', # 예측 시에도 GPU사용\n",
        "    'objective': 'reg:linear',    # 회귀\n",
        "    'eval_metric': 'rmse',        # kaggle에서 요구하는 검증모델\n",
        "    'silent': True,               # 학습 동안 메세지 출력할지 말지\n",
        "    'seed': RANDOM_SEED,\n",
        "}"
      ],
      "execution_count": 0,
      "outputs": []
    },
    {
      "metadata": {
        "id": "3xUAJKlrht7s",
        "colab_type": "code",
        "outputId": "b9dfa588-45b5-4c90-f0f1-c0bc1b177d51",
        "colab": {
          "base_uri": "https://localhost:8080/",
          "height": 539
        }
      },
      "cell_type": "code",
      "source": [
        "# X_train, X_test, y_train, y_test\n",
        "\n",
        "%%time\n",
        "# transforming\n",
        "dtrain = xgb.DMatrix(X_train, y_train)\n",
        "dtest = xgb.DMatrix(X_test)\n",
        "\n",
        "\n",
        "# cross validation\n",
        "cv_output = xgb.cv(xgb_params,\n",
        "                   dtrain,                        \n",
        "                   num_boost_round=15000,         # the number of boosting trees\n",
        "                   early_stopping_rounds=100,    # val loss가 계속 상승하면 중지\n",
        "                   nfold=5,                      # set folds of the closs validation\n",
        "                   verbose_eval=300,             # 몇 번째마다 메세지를 출력할 것인지\n",
        "#                    feval=rmse_exp,               # price 속성을 log scaling 했기 때문에, 다시 exponential\n",
        "                   maximize=False,\n",
        "                   show_stdv=False,              # 학습 동안 std(표준편차) 출력할지 말지\n",
        "                   )"
      ],
      "execution_count": 0,
      "outputs": [
        {
          "output_type": "stream",
          "text": [
            "[0]\ttrain-rmse:641878\ttest-rmse:641916\n",
            "[300]\ttrain-rmse:94142.4\ttest-rmse:134183\n",
            "[600]\ttrain-rmse:81041.3\ttest-rmse:127878\n",
            "[900]\ttrain-rmse:74611.1\ttest-rmse:125845\n",
            "[1200]\ttrain-rmse:69281.9\ttest-rmse:124515\n",
            "[1500]\ttrain-rmse:64973\ttest-rmse:123729\n",
            "[1800]\ttrain-rmse:61006.4\ttest-rmse:123085\n",
            "[2100]\ttrain-rmse:57804.2\ttest-rmse:122630\n",
            "[2400]\ttrain-rmse:54893.4\ttest-rmse:122271\n",
            "[2700]\ttrain-rmse:52288.2\ttest-rmse:122030\n",
            "[3000]\ttrain-rmse:49816.3\ttest-rmse:121772\n",
            "[3300]\ttrain-rmse:47571\ttest-rmse:121579\n",
            "[3600]\ttrain-rmse:45523.8\ttest-rmse:121384\n",
            "[3900]\ttrain-rmse:43625.5\ttest-rmse:121240\n",
            "[4200]\ttrain-rmse:41945.2\ttest-rmse:121158\n",
            "[4500]\ttrain-rmse:40307.4\ttest-rmse:121079\n",
            "[4800]\ttrain-rmse:38751.3\ttest-rmse:121037\n",
            "[5100]\ttrain-rmse:37266.1\ttest-rmse:120973\n",
            "[5400]\ttrain-rmse:35880.4\ttest-rmse:120947\n",
            "[5700]\ttrain-rmse:34543.3\ttest-rmse:120906\n",
            "[6000]\ttrain-rmse:33360.9\ttest-rmse:120894\n",
            "[6300]\ttrain-rmse:32208.7\ttest-rmse:120870\n",
            "[6600]\ttrain-rmse:31128.2\ttest-rmse:120849\n",
            "[6900]\ttrain-rmse:30100\ttest-rmse:120802\n",
            "[7200]\ttrain-rmse:29129.7\ttest-rmse:120772\n",
            "[7500]\ttrain-rmse:28200.2\ttest-rmse:120752\n",
            "[7800]\ttrain-rmse:27254.1\ttest-rmse:120744\n",
            "CPU times: user 6min 54s, sys: 3.34 s, total: 6min 57s\n",
            "Wall time: 6min 57s\n"
          ],
          "name": "stdout"
        }
      ]
    },
    {
      "metadata": {
        "id": "ks-hKtNNEwZu",
        "colab_type": "code",
        "outputId": "77ac1f45-5dda-42f3-a403-a83b2d12c414",
        "colab": {
          "base_uri": "https://localhost:8080/",
          "height": 341
        }
      },
      "cell_type": "code",
      "source": [
        "cv_output = xgb.cv(xgb_params,\n",
        "                   dtrain,                        \n",
        "                   num_boost_round=50000,         # the number of boosting trees\n",
        "                   early_stopping_rounds=1000,    # val loss가 계속 상승하면 중지\n",
        "                   nfold=5,                      # set folds of the closs validation\n",
        "                   verbose_eval=500,             # 몇 번째마다 메세지를 출력할 것인지\n",
        "#                    feval=rmse_exp,               # price 속성을 log scaling 했기 때문에, 다시 exponential\n",
        "                   maximize=False,\n",
        "                   show_stdv=False,              # 학습 동안 std(표준편차) 출력할지 말지\n",
        "#                    seed=RANDOM_SEED\n",
        "                   )"
      ],
      "execution_count": 0,
      "outputs": [
        {
          "output_type": "stream",
          "text": [
            "[0]\ttrain-rmse:641878\ttest-rmse:641916\n",
            "[500]\ttrain-rmse:83879\ttest-rmse:128993\n",
            "[1000]\ttrain-rmse:72696.5\ttest-rmse:125351\n",
            "[1500]\ttrain-rmse:64973\ttest-rmse:123729\n",
            "[2000]\ttrain-rmse:58880.3\ttest-rmse:122792\n",
            "[2500]\ttrain-rmse:53963.4\ttest-rmse:122201\n",
            "[3000]\ttrain-rmse:49816.3\ttest-rmse:121772\n",
            "[3500]\ttrain-rmse:46218.8\ttest-rmse:121449\n",
            "[4000]\ttrain-rmse:43057.6\ttest-rmse:121227\n",
            "[4500]\ttrain-rmse:40307.4\ttest-rmse:121079\n",
            "[5000]\ttrain-rmse:37808.3\ttest-rmse:120983\n",
            "[5500]\ttrain-rmse:35446.4\ttest-rmse:120941\n",
            "[6000]\ttrain-rmse:33360.9\ttest-rmse:120894\n",
            "[6500]\ttrain-rmse:31480.1\ttest-rmse:120851\n",
            "[7000]\ttrain-rmse:29777.4\ttest-rmse:120787\n",
            "[7500]\ttrain-rmse:28200.2\ttest-rmse:120752\n",
            "[8000]\ttrain-rmse:26637.4\ttest-rmse:120742\n",
            "[8500]\ttrain-rmse:25295.4\ttest-rmse:120747\n"
          ],
          "name": "stdout"
        }
      ]
    },
    {
      "metadata": {
        "id": "mTenCikQIsKa",
        "colab_type": "code",
        "outputId": "909a21aa-9133-4015-b35f-a58cf3e0cb19",
        "colab": {
          "base_uri": "https://localhost:8080/",
          "height": 71
        }
      },
      "cell_type": "code",
      "source": [
        "best_rounds = cv_output.index.size\n",
        "print(f'\\nBest Rounds: {best_rounds}')\n",
        "\n",
        "score = round(cv_output.iloc[-1]['test-rmse-mean'], 2)\n",
        "print(f'Best Score: {score}')"
      ],
      "execution_count": 0,
      "outputs": [
        {
          "output_type": "stream",
          "text": [
            "\n",
            "Best Rounds: 7609\n",
            "Best Score: 120736.32\n"
          ],
          "name": "stdout"
        }
      ]
    },
    {
      "metadata": {
        "id": "NAw7ijXRRHbn",
        "colab_type": "code",
        "outputId": "945da495-b6fd-45a8-ea31-5b6927d6dae3",
        "colab": {
          "base_uri": "https://localhost:8080/",
          "height": 341
        }
      },
      "cell_type": "code",
      "source": [
        "# plotting\n",
        "# fig, ax1 = plt.plot()\n",
        "fig, (ax1, ax2) = plt.subplots(1, 2, figsize=(14,5))\n",
        "# fig, (ax1) = plt.subplots(1, 1, figsize=(10,5))\n",
        "cv_output[['train-rmse-mean', 'test-rmse-mean']].plot(ax=ax1)\n",
        "ax1.set_title('RMSE_log', fontsize=20)\n",
        "cv_output[['train-rmse_exp-mean', 'test-rmse_exp-mean']].plot(ax=ax2)\n",
        "ax2.set_title('RMSE', fontsize=20)\n",
        "\n",
        "plt.show()"
      ],
      "execution_count": 0,
      "outputs": [
        {
          "output_type": "display_data",
          "data": {
            "image/png": "[encoded data removed]",
            "text/plain": [
              "<Figure size 720x360 with 1 Axes>"
            ]
          },
          "metadata": {
            "tags": []
          }
        }
      ]
    },
    {
      "metadata": {
        "id": "zLeKY4zgQ0EW",
        "colab_type": "code",
        "colab": {}
      },
      "cell_type": "code",
      "source": [
        "model = xgb.train(xgb_params, dtrain, num_boost_round=best_rounds)\n",
        "y_pred = model.predict(dtest)"
      ],
      "execution_count": 0,
      "outputs": []
    },
    {
      "metadata": {
        "id": "B_I3gR7CQ0LC",
        "colab_type": "code",
        "outputId": "e8d7ce1c-77a0-485f-a2a8-b69515c36ab2",
        "colab": {
          "base_uri": "https://localhost:8080/",
          "height": 621
        }
      },
      "cell_type": "code",
      "source": [
        "fig, ax = plt.subplots(figsize=(10,10))\n",
        "xgb.plot_importance(model, ax=ax)\n",
        "\n",
        "plt.show()"
      ],
      "execution_count": 0,
      "outputs": [
        {
          "output_type": "display_data",
          "data": {
            "image/png": "[encoded data removed]",
            "text/plain": [
              "<Figure size 720x720 with 1 Axes>"
            ]
          },
          "metadata": {
            "tags": []
          }
        }
      ]
    },
    {
      "metadata": {
        "id": "OhXcBKRFQ0I9",
        "colab_type": "code",
        "colab": {}
      },
      "cell_type": "code",
      "source": [
        "# from shapely.geometry import shape, Point, multipolygon\n",
        "# from shap import TreeExplainer, summary_plot\n",
        "\n",
        "# explainer = TreeExplainer(model)\n",
        "# shap_values = explainer.shap_values(X_train)\n",
        "# summary_plot(shap_values, X_train, title='Train')"
      ],
      "execution_count": 0,
      "outputs": []
    },
    {
      "metadata": {
        "id": "_6VCsvvNTYaq",
        "colab_type": "code",
        "colab": {}
      },
      "cell_type": "code",
      "source": [
        ""
      ],
      "execution_count": 0,
      "outputs": []
    },
    {
      "metadata": {
        "id": "sHDI4D9pTXtl",
        "colab_type": "text"
      },
      "cell_type": "markdown",
      "source": [
        ""
      ]
    },
    {
      "metadata": {
        "id": "-Clu08FAeuaj",
        "colab_type": "code",
        "outputId": "e24d8adc-b021-4aa9-a040-0b4012f72f99",
        "colab": {
          "base_uri": "https://localhost:8080/",
          "height": 35
        }
      },
      "cell_type": "code",
      "source": [
        "X_train, X_test, y_train, y_test = train_test_split(sd, price_raw, test_size = 0.1, random_state=RANDOM_SEED)\n",
        "\n",
        "\n",
        "\n",
        "start = time()\n",
        "est = GradientBoostingRegressor(alpha=0.9, criterion='friedman_mse', init=None,\n",
        "           learning_rate=0.1, loss='ls', max_depth=5,\n",
        "           max_features=None, max_leaf_nodes=None,\n",
        "           min_impurity_decrease=0.0, min_impurity_split=None,\n",
        "           min_samples_leaf=1, min_samples_split=2,\n",
        "           min_weight_fraction_leaf=0.0, n_estimators=200,\n",
        "           n_iter_no_change=None, presort='auto', random_state=RANDOM_SEED,\n",
        "           subsample=1.0, tol=0.1, validation_fraction=0.1, verbose=0)\n",
        "\n",
        "est.fit(X_train, y_train)\n",
        "\n",
        "end = time()\n",
        "time_d = end - start\n",
        "\n",
        "# pridict\n",
        "pred_est = est.predict(X_test)\n",
        "# pred_est = np.expm1(pred_est)\n",
        "get_para_gbr = est.get_params\n",
        "\n",
        "rmse_est_gbr = mean_squared_error(pred_est, y_test)\n",
        "print(rmse_est_gbr)\n",
        "\n",
        "\n",
        "\n",
        "# score_mm = tt(mm) 11810252014.834291\n",
        "# score_ma = tt(ma) 12185041267.04306\n",
        "# score_sd = tt(sd) 11494035306.350412\n",
        "# score_rb = tt(rb) 11810252014.834291\n",
        "\n",
        "# 결정 sd 11494035306\n",
        "\n"
      ],
      "execution_count": 0,
      "outputs": [
        {
          "output_type": "stream",
          "text": [
            "11494035306.350412\n"
          ],
          "name": "stdout"
        }
      ]
    },
    {
      "metadata": {
        "id": "kgUGbemBQ0G9",
        "colab_type": "code",
        "colab": {}
      },
      "cell_type": "code",
      "source": [
        ""
      ],
      "execution_count": 0,
      "outputs": []
    },
    {
      "metadata": {
        "id": "JqtQS2MIxtRh",
        "colab_type": "code",
        "colab": {}
      },
      "cell_type": "code",
      "source": [
        ""
      ],
      "execution_count": 0,
      "outputs": []
    },
    {
      "metadata": {
        "id": "obb4WjIbtWb2",
        "colab_type": "code",
        "outputId": "ee1de485-933b-4747-f7f4-387130b47872",
        "colab": {
          "base_uri": "https://localhost:8080/",
          "height": 539
        }
      },
      "cell_type": "code",
      "source": [
        "xgb_params1 = {\n",
        "    'eta': 0.05,\n",
        "    'max_depth': 5,\n",
        "    'subsample': 0.9,\n",
        "    'colsample_bytree': 0.5,\n",
        "#     'tree_method': 'gpu_hist',    # 최적화된 분할 지점을 찾기 위한 algorithm 설정 + 캐글의 GPU 사용\n",
        "    'predictor': 'gpu_predictor', # 예측 시에도 GPU사용\n",
        "    'objective': 'reg:linear',    # 회귀\n",
        "    'eval_metric': 'rmse',        # kaggle에서 요구하는 검증모델\n",
        "    'silent': True,               # 학습 동안 메세지 출력할지 말지\n",
        "    'seed': RANDOM_SEED,\n",
        "    'n_estimators':1000\n",
        "}\n",
        "\n",
        "%%time\n",
        "# transforming\n",
        "dtrain = xgb.DMatrix(X_train, y_train)\n",
        "dtest = xgb.DMatrix(X_test)\n",
        "\n",
        "# cross validation\n",
        "cv_output = xgb.cv(xgb_params1,\n",
        "                   dtrain,                        \n",
        "                   num_boost_round=15000,         # the number of boosting trees\n",
        "                   early_stopping_rounds=100,    # val loss가 계속 상승하면 중지\n",
        "                   nfold=5,                      # set folds of the closs validation\n",
        "                   verbose_eval=100,             # 몇 번째마다 메세지를 출력할 것인지\n",
        "#                    feval=rmse_exp,               # price 속성을 log scaling 했기 때문에, 다시 exponential\n",
        "                   maximize=False,\n",
        "                   show_stdv=False,              # 학습 동안 std(표준편차) 출력할지 말지\n",
        "                   )"
      ],
      "execution_count": 0,
      "outputs": [
        {
          "output_type": "stream",
          "text": [
            "[0]\ttrain-rmse:624352\ttest-rmse:624571\n",
            "[100]\ttrain-rmse:106571\ttest-rmse:137675\n",
            "[200]\ttrain-rmse:94277.1\ttest-rmse:131165\n",
            "[300]\ttrain-rmse:88932.6\ttest-rmse:128867\n",
            "[400]\ttrain-rmse:85587.3\ttest-rmse:127815\n",
            "[500]\ttrain-rmse:82952.8\ttest-rmse:126880\n",
            "[600]\ttrain-rmse:80152\ttest-rmse:126179\n",
            "[700]\ttrain-rmse:77882.1\ttest-rmse:125595\n",
            "[800]\ttrain-rmse:75464.5\ttest-rmse:124977\n",
            "[900]\ttrain-rmse:73508.4\ttest-rmse:124537\n",
            "[1000]\ttrain-rmse:71837\ttest-rmse:124179\n",
            "[1100]\ttrain-rmse:69893.8\ttest-rmse:123943\n",
            "[1200]\ttrain-rmse:68268.5\ttest-rmse:123618\n",
            "[1300]\ttrain-rmse:66682.5\ttest-rmse:123439\n",
            "[1400]\ttrain-rmse:65134\ttest-rmse:123340\n",
            "[1500]\ttrain-rmse:63929.9\ttest-rmse:123123\n",
            "[1600]\ttrain-rmse:62632.4\ttest-rmse:122968\n",
            "[1700]\ttrain-rmse:61335.1\ttest-rmse:122881\n",
            "[1800]\ttrain-rmse:60169.4\ttest-rmse:122780\n",
            "[1900]\ttrain-rmse:59124.9\ttest-rmse:122677\n",
            "[2000]\ttrain-rmse:58147.7\ttest-rmse:122625\n",
            "[2100]\ttrain-rmse:57193.6\ttest-rmse:122550\n",
            "[2200]\ttrain-rmse:56198.8\ttest-rmse:122502\n",
            "[2300]\ttrain-rmse:55270\ttest-rmse:122433\n",
            "[2400]\ttrain-rmse:54347.1\ttest-rmse:122374\n",
            "[2500]\ttrain-rmse:53384.6\ttest-rmse:122307\n",
            "[2600]\ttrain-rmse:52480.2\ttest-rmse:122310\n",
            "CPU times: user 2min 59s, sys: 2.28 s, total: 3min 1s\n",
            "Wall time: 1min 55s\n"
          ],
          "name": "stdout"
        }
      ]
    }
  ]
}